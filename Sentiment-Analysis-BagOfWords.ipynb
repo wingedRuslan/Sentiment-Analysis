{
 "cells": [
  {
   "cell_type": "markdown",
   "metadata": {},
   "source": [
    "## Kaggle Challenge - Twitter Sentiment Analysis - Bag-Of-Words Model"
   ]
  },
  {
   "cell_type": "code",
   "execution_count": 2,
   "metadata": {
    "collapsed": true
   },
   "outputs": [],
   "source": [
    "# read train data\n",
    "import pandas as pd\n",
    "train = pd.read_csv(\"train.csv\", header=0, delimiter=\",\", encoding='latin-1')"
   ]
  },
  {
   "cell_type": "code",
   "execution_count": 3,
   "metadata": {},
   "outputs": [
    {
     "data": {
      "text/plain": [
       "['ItemID', 'Sentiment', 'SentimentText']"
      ]
     },
     "execution_count": 3,
     "metadata": {},
     "output_type": "execute_result"
    }
   ],
   "source": [
    "list(train.columns.values)"
   ]
  },
  {
   "cell_type": "code",
   "execution_count": 28,
   "metadata": {},
   "outputs": [
    {
     "data": {
      "text/html": [
       "<div>\n",
       "<style>\n",
       "    .dataframe thead tr:only-child th {\n",
       "        text-align: right;\n",
       "    }\n",
       "\n",
       "    .dataframe thead th {\n",
       "        text-align: left;\n",
       "    }\n",
       "\n",
       "    .dataframe tbody tr th {\n",
       "        vertical-align: top;\n",
       "    }\n",
       "</style>\n",
       "<table border=\"1\" class=\"dataframe\">\n",
       "  <thead>\n",
       "    <tr style=\"text-align: right;\">\n",
       "      <th></th>\n",
       "      <th>ItemID</th>\n",
       "      <th>Sentiment</th>\n",
       "      <th>SentimentText</th>\n",
       "    </tr>\n",
       "  </thead>\n",
       "  <tbody>\n",
       "    <tr>\n",
       "      <th>0</th>\n",
       "      <td>1</td>\n",
       "      <td>0</td>\n",
       "      <td>is so sad for my APL frie...</td>\n",
       "    </tr>\n",
       "    <tr>\n",
       "      <th>1</th>\n",
       "      <td>2</td>\n",
       "      <td>0</td>\n",
       "      <td>I missed the New Moon trail...</td>\n",
       "    </tr>\n",
       "    <tr>\n",
       "      <th>2</th>\n",
       "      <td>3</td>\n",
       "      <td>1</td>\n",
       "      <td>omg its already 7:30 :O</td>\n",
       "    </tr>\n",
       "    <tr>\n",
       "      <th>3</th>\n",
       "      <td>4</td>\n",
       "      <td>0</td>\n",
       "      <td>.. Omgaga. Im sooo  im gunna CRy. I'...</td>\n",
       "    </tr>\n",
       "    <tr>\n",
       "      <th>4</th>\n",
       "      <td>5</td>\n",
       "      <td>0</td>\n",
       "      <td>i think mi bf is cheating on me!!!   ...</td>\n",
       "    </tr>\n",
       "  </tbody>\n",
       "</table>\n",
       "</div>"
      ],
      "text/plain": [
       "   ItemID  Sentiment                                      SentimentText\n",
       "0       1          0                       is so sad for my APL frie...\n",
       "1       2          0                     I missed the New Moon trail...\n",
       "2       3          1                            omg its already 7:30 :O\n",
       "3       4          0            .. Omgaga. Im sooo  im gunna CRy. I'...\n",
       "4       5          0           i think mi bf is cheating on me!!!   ..."
      ]
     },
     "execution_count": 28,
     "metadata": {},
     "output_type": "execute_result"
    }
   ],
   "source": [
    "train.head(5)"
   ]
  },
  {
   "cell_type": "code",
   "execution_count": 4,
   "metadata": {},
   "outputs": [
    {
     "data": {
      "text/plain": [
       "(99989, 3)"
      ]
     },
     "execution_count": 4,
     "metadata": {},
     "output_type": "execute_result"
    }
   ],
   "source": [
    "train.shape"
   ]
  },
  {
   "cell_type": "code",
   "execution_count": 5,
   "metadata": {},
   "outputs": [
    {
     "name": "stdout",
     "output_type": "stream",
     "text": [
      "                   I missed the New Moon trailer...\n",
      "NEXT---------------------\n",
      "              omg its already 7:30 :O\n",
      "NEXT---------------------\n",
      "          .. Omgaga. Im sooo  im gunna CRy. I've been at this dentist since 11.. I was suposed 2 just get a crown put on (30mins)...\n",
      "NEXT---------------------\n",
      "         i think mi bf is cheating on me!!!       T_T\n",
      "NEXT---------------------\n"
     ]
    }
   ],
   "source": [
    "for i in range(1,5):\n",
    "    print(train[\"SentimentText\"][i])\n",
    "    print(\"NEXT---------------------\")"
   ]
  },
  {
   "cell_type": "markdown",
   "metadata": {},
   "source": [
    "### Clean the train data"
   ]
  },
  {
   "cell_type": "code",
   "execution_count": 7,
   "metadata": {
    "collapsed": true
   },
   "outputs": [],
   "source": [
    "from cleanData import twitts_to_words"
   ]
  },
  {
   "cell_type": "code",
   "execution_count": 8,
   "metadata": {
    "collapsed": true
   },
   "outputs": [],
   "source": [
    "num_twitts = train[\"SentimentText\"].size"
   ]
  },
  {
   "cell_type": "code",
   "execution_count": 9,
   "metadata": {
    "collapsed": true
   },
   "outputs": [],
   "source": [
    "clean_train_twitts = []"
   ]
  },
  {
   "cell_type": "code",
   "execution_count": 10,
   "metadata": {},
   "outputs": [
    {
     "name": "stdout",
     "output_type": "stream",
     "text": [
      "Review 30000 of 99989\n",
      "\n",
      "Review 60000 of 99989\n",
      "\n",
      "Review 90000 of 99989\n",
      "\n"
     ]
    }
   ],
   "source": [
    "for i in range(0, num_twitts):\n",
    "    if( (i+1)%30000 == 0 ):\n",
    "        print (\"Review {} of {}\\n\".format(i+1, num_twitts))             # status updates\n",
    "    clean_train_twitts.append(twitts_to_words(train[\"SentimentText\"][i]))"
   ]
  },
  {
   "cell_type": "code",
   "execution_count": 11,
   "metadata": {},
   "outputs": [
    {
     "data": {
      "text/plain": [
       "99989"
      ]
     },
     "execution_count": 11,
     "metadata": {},
     "output_type": "execute_result"
    }
   ],
   "source": [
    "len(clean_train_twitts)"
   ]
  },
  {
   "cell_type": "code",
   "execution_count": 13,
   "metadata": {},
   "outputs": [
    {
     "name": "stdout",
     "output_type": "stream",
     "text": [
      "missed new moon trailer\n",
      "NEXT---------------------\n",
      "omg already\n",
      "NEXT---------------------\n",
      "omgaga im sooo im gunna cry dentist since suposed get crown put mins\n",
      "NEXT---------------------\n",
      "think mi bf cheating\n",
      "NEXT---------------------\n"
     ]
    }
   ],
   "source": [
    "for i in range(1,5):\n",
    "    print(clean_train_twitts[i])\n",
    "    print(\"NEXT---------------------\")"
   ]
  },
  {
   "cell_type": "markdown",
   "metadata": {},
   "source": [
    "### Creating Features from a Bag of Words (Using scikit-learn)\n",
    "- convert data training tweets to some kind of numeric representation for machine learning\n",
    "\n",
    "- Bag-of-Words Approach\n",
    "The Bag of Words model learns a vocabulary from all of the documents, then models each document by counting the number of times each word appears. \n",
    "Vocabulary will be to big based on all tweets, so to limit the size of the feature vectors, we should choose some maximum vocabulary size - 5000 most frequent words\n",
    "- sklearn.CountVectorizer - Convert a collection of raw documents to a matrix features."
   ]
  },
  {
   "cell_type": "code",
   "execution_count": 14,
   "metadata": {
    "collapsed": true
   },
   "outputs": [],
   "source": [
    "from sklearn.feature_extraction.text import CountVectorizer"
   ]
  },
  {
   "cell_type": "code",
   "execution_count": 15,
   "metadata": {
    "collapsed": true
   },
   "outputs": [],
   "source": [
    "vectorizer = CountVectorizer(analyzer = \"word\",   \\\n",
    "                             tokenizer = None,    \\\n",
    "                             preprocessor = None, \\\n",
    "                             stop_words = None,   \\\n",
    "                             max_features = 5000)"
   ]
  },
  {
   "cell_type": "code",
   "execution_count": 16,
   "metadata": {
    "collapsed": true
   },
   "outputs": [],
   "source": [
    "train_data_features = vectorizer.fit_transform(clean_train_twitts)"
   ]
  },
  {
   "cell_type": "code",
   "execution_count": 17,
   "metadata": {},
   "outputs": [
    {
     "data": {
      "text/plain": [
       "scipy.sparse.csr.csr_matrix"
      ]
     },
     "execution_count": 17,
     "metadata": {},
     "output_type": "execute_result"
    }
   ],
   "source": [
    "type(train_data_features)"
   ]
  },
  {
   "cell_type": "code",
   "execution_count": 18,
   "metadata": {},
   "outputs": [
    {
     "data": {
      "text/plain": [
       "(99989, 5000)"
      ]
     },
     "execution_count": 18,
     "metadata": {},
     "output_type": "execute_result"
    }
   ],
   "source": [
    "train_data_features.shape"
   ]
  },
  {
   "cell_type": "code",
   "execution_count": 111,
   "metadata": {},
   "outputs": [
    {
     "data": {
      "text/plain": [
       "array([[0, 0, 0, ..., 0, 0, 0],\n",
       "       [0, 0, 0, ..., 0, 0, 0],\n",
       "       [0, 0, 0, ..., 0, 0, 0],\n",
       "       ...,\n",
       "       [0, 0, 0, ..., 0, 0, 0],\n",
       "       [0, 0, 0, ..., 0, 0, 0],\n",
       "       [0, 0, 0, ..., 0, 0, 0]], dtype=int64)"
      ]
     },
     "execution_count": 111,
     "metadata": {},
     "output_type": "execute_result"
    }
   ],
   "source": [
    "#train_data_features.toarray()"
   ]
  },
  {
   "cell_type": "markdown",
   "metadata": {},
   "source": [
    "Bag of Words model is trained, let's look at the vocabulary"
   ]
  },
  {
   "cell_type": "code",
   "execution_count": 19,
   "metadata": {
    "collapsed": true
   },
   "outputs": [],
   "source": [
    "vocab = vectorizer.get_feature_names()"
   ]
  },
  {
   "cell_type": "code",
   "execution_count": 20,
   "metadata": {},
   "outputs": [
    {
     "name": "stdout",
     "output_type": "stream",
     "text": [
      "['aa', 'aah', 'aalaap', 'aaron', 'aaroncarter', 'ab', 'abacab', 'abbie', 'abby', 'abc', 'ability', 'abit', 'able', 'abs', 'absolute', 'absolutely', 'abt', 'ac', 'acc', 'accent', 'accept', 'accepted', 'access', 'accident', 'accidentally', 'according', 'account', 'accounts', 'ace', 'aceconcierge', 'acemas', 'aceybongos', 'ache', 'aches', 'ack', 'aclockworktoad', 'acoustic', 'across', 'act', 'acting', 'action', 'active', 'actor', 'actress', 'actual', 'actually', 'ad', 'ada', 'adam', 'adamgoldston', 'adammshankman', 'adamsconsulting', 'add', 'added', 'addict', 'addicted', 'addicting', 'addiction', 'addictive', 'adding', 'address', 'aditya', 'adlyman', 'admit', 'adorable', 'adore', 'adrence', 'adri', 'adrian', 'adrienne', 'ads', 'advance', 'advantage', 'adventure', 'advertising', 'advice', 'ae', 'aerobic', 'afford', 'afinefrenzy', 'afraid', 'africa', 'afrobella', 'afternoon', 'afterwards', 'ag', 'age', 'agent', 'agentbooth', 'ages', 'agesthegreat', 'agingbackwards', 'ago', 'agree', 'agreed', 'ah', 'aha', 'ahah', 'ahaha', 'ahahaha', 'ahead', 'aherne', 'ahh', 'ahhh', 'ahhhh', 'ahhhhh', 'ahj', 'ahmednaguib', 'ahmnohere', 'ahoova', 'ai', 'aianna', 'aid', 'aight', 'aileen', 'aim', 'aimee', 'aimeelady', 'aint', 'ainz', 'aion', 'air', 'airport', 'aj', 'aja', 'ajm', 'ajrafael', 'ak', 'aka', 'akelaa', 'ako', 'akomuzikera', 'akr', 'aku', 'al', 'alan', 'alancarr', 'alancostello', 'alandavies', 'alarm', 'alas', 'alauderdale', 'album', 'albums', 'alcohol', 'ale', 'aleenia', 'alegrya', 'alert', 'alex', 'alexa', 'alexalbrecht', 'alexalltimelow', 'alexandramusic', 'alexarpd', 'alexcashcash', 'alexis', 'alexthefob', 'ali', 'alice', 'alicia', 'alike', 'alison', 'alitherunner', 'alittlebit', 'alittletrendy', 'alive', 'allconsoffun', 'allen', 'allergic', 'allergies', 'alli', 'allie', 'allison', 'allow', 'allowed', 'allthatglitrs', 'ally', 'almost', 'alohaarleen', 'aloliver', 'alone', 'along', 'alot', 'alpha', 'already', 'alright', 'alroker', 'also', 'although', 'always', 'aly', 'alyankovic', 'alydenisof', 'alyssa', 'amalinaaa', 'amanda', 'amandabynes', 'amandapalmer', 'amara', 'amazing', 'amazingly', 'amazingphil', 'amazingphoebe', 'amazon', 'amazondotjon', 'amber', 'ambercadabra', 'amberlovely', 'amelia', 'amen', 'america', 'american', 'americans', 'americanwomannn', 'amieewhitney', 'amiemccarron', 'ammarvellous', 'amount', 'amous', 'amp', 'amusing', 'amy', 'amykate', 'amypalko', 'amyriadfthings', 'amysav', 'amyshell', 'amyyvee', 'ana', 'anaggh', 'anca', 'andpark', 'andre', 'andrea', 'andrew', 'andrewdearling', 'andrewgoldstein', 'androidtomato', 'andy', 'andyclemmensen', 'andyhurleyday', 'andyroddick', 'andysowards', 'ang', 'ange', 'angel', 'angela', 'angelajames', 'angels', 'angie', 'angmogirl', 'angry', 'ani', 'anima', 'animal', 'animals', 'anime', 'anjeebaby', 'ankita', 'ankle', 'ann', 'anna', 'anncurry', 'anne', 'annettestatus', 'annie', 'anniversary', 'announced', 'announcement', 'annoyed', 'annoying', 'anntrs', 'annyo', 'anoop', 'anoopdoggdesai', 'another', 'answer', 'answered', 'answering', 'answers', 'ant', 'anthony', 'anti', 'antiquebasket', 'anxiety', 'anxious', 'anybody', 'anyhow', 'anymore', 'anyone', 'anything', 'anytime', 'anyway', 'anyways', 'anywhere', 'anz', 'ap', 'aparajuli', 'apart', 'apartment', 'apercheddove', 'aplin', 'aplusk', 'apologies', 'apologize', 'app', 'apparently', 'appear', 'appears', 'apple', 'applecored', 'apples', 'application', 'apply', 'appointment', 'appreciate', 'appreciated', 'apprentice', 'approve', 'apps', 'appt', 'april', 'aprilyim', 'apt', 'ar', 'aral', 'arancinibaby', 'aravindkumar', 'archie', 'architeuth', 'archuleta', 'archuphils', 'area', 'arent', 'argentina', 'argh', 'ari', 'ariaajaeger', 'aristeia', 'arizona', 'arjbarker', 'arm', 'arms', 'army', 'around', 'arrive', 'arrived', 'arsenalsarah', 'art', 'artfanatic', 'arthur', 'article', 'articles', 'artist', 'artists', 'arunbasillal', 'asap', 'asexiness', 'asfaq', 'ash', 'ashamed', 'asher', 'ashes', 'ashlee', 'ashleeadams', 'ashleigh', 'ashley', 'ashleyltmsyf', 'ashleyolsen', 'ashleytisdale', 'ashsimpsonwentz', 'ashton', 'asia', 'asian', 'asinisterduck', 'ask', 'askaaronlee', 'asked', 'asking', 'asleep', 'asos', 'asot', 'ass', 'asshole', 'assignment', 'assistant', 'assume', 'assuming', 'astro', 'astynes', 'aswell', 'asylm', 'ate', 'atebits', 'athena', 'atl', 'atlanta', 'atleast', 'atm', 'attached', 'attack', 'attacked', 'attempt', 'attend', 'attention', 'attitude', 'au', 'aubrey', 'aubreyoday', 'audience', 'audio', 'audition', 'audrey', 'aug', 'august', 'aulia', 'aunt', 'aus', 'aussie', 'aussiecynic', 'aussiemcflyfan', 'austin', 'australia', 'australian', 'author', 'auto', 'autograph', 'autumn', 'av', 'available', 'avalanchelynn', 'avatar', 'average', 'avoid', 'aw', 'awaisnaseer', 'awake', 'award', 'awards', 'aware', 'away', 'awe', 'awesome', 'awesomeness', 'awful', 'awh', 'awhile', 'awkward', 'awsome', 'aww', 'awww', 'awwww', 'awwwww', 'awwwwww', 'ay', 'aye', 'az', 'azandiamjbb', 'azlen', 'ba', 'babblingbrookie', 'babe', 'babenatasha', 'babes', 'babies', 'baby', 'babygirl', 'babygirlparis', 'babygirlsomajor', 'babysitting', 'back', 'background', 'backstreet', 'backstreetboys', 'backup', 'bacon', 'bad', 'badass', 'badge', 'badly', 'bag', 'bags', 'bah', 'bahaha', 'bailon', 'bake', 'baked', 'baking', 'balance', 'bald', 'ball', 'balls', 'baltimore', 'bam', 'ban', 'banana', 'bananasmel', 'band', 'bands', 'bang', 'bank', 'banks', 'banksyart', 'bannedagain', 'banner', 'bar', 'barakatday', 'barbara', 'barbie', 'barefoot', 'barely', 'barney', 'barry', 'bars', 'basantam', 'baseball', 'based', 'bash', 'basically', 'basketball', 'bass', 'bastard', 'bat', 'bath', 'bathroom', 'batman', 'battery', 'battle', 'baxiabhishek', 'bay', 'bb', 'bball', 'bbc', 'bbl', 'bbm', 'bbq', 'bbrriittttyy', 'bby', 'bc', 'bd', 'bday', 'bea', 'beach', 'bean', 'beaniebanks', 'beans', 'bear', 'beardoctor', 'bears', 'beast', 'beat', 'beating', 'beatles', 'beats', 'beautiful', 'beauty', 'bebe', 'bebiv', 'bebo', 'becabear', 'became', 'becca', 'beck', 'beckie', 'beckinelson', 'becky', 'beckybuckwild', 'beckykingston', 'become', 'becoming', 'becuz', 'bed', 'bedroom', 'bedtime', 'bee', 'beef', 'beer', 'beers', 'begin', 'beginning', 'begins', 'behind', 'beijing', 'bein', 'beingnobody', 'belated', 'believe', 'bell', 'bella', 'belle', 'belly', 'belong', 'ben', 'benjamin', 'benshephard', 'benson', 'berlin', 'bern', 'berry', 'beside', 'besides', 'best', 'bestie', 'bet', 'beta', 'beth', 'betta', 'better', 'betty', 'bev', 'beverleyknight', 'bex', 'bexiclepop', 'beyonce', 'beyond', 'bf', 'bff', 'bg', 'bgt', 'bianca', 'bible', 'big', 'bigassbadger', 'bigger', 'biggest', 'bike', 'bikini', 'bill', 'billbeckett', 'bills', 'billy', 'billyraycyrus', 'bimbler', 'bin', 'bing', 'bio', 'bird', 'birds', 'birth', 'birthday', 'birthdays', 'bit', 'bitch', 'bitches', 'bite', 'bites', 'bits', 'bitter', 'biz', 'bizarre', 'bk', 'bl', 'black', 'blackberry', 'blah', 'blair', 'blame', 'blank', 'blasha', 'blast', 'bleeding', 'bless', 'blessed', 'blessing', 'blessings', 'blew', 'blind', 'blindcripple', 'blink', 'blip', 'bliss', 'block', 'blocked', 'blocks', 'blog', 'blogger', 'blogging', 'blogs', 'blogspot', 'blogtv', 'blokeslib', 'blonde', 'blood', 'bloody', 'blow', 'blowhornoz', 'blown', 'blows', 'blu', 'blue', 'blues', 'bo', 'board', 'boat', 'bob', 'bobbinrob', 'bobby', 'bobbyedner', 'bobbyllew', 'bobbythomas', 'boddingtons', 'body', 'bogwhoppit', 'bold', 'bomb', 'bones', 'bonus', 'boo', 'boogaloo', 'book', 'booked', 'books', 'boom', 'booo', 'boooo', 'boot', 'booth', 'boots', 'booty', 'booze', 'bored', 'boredom', 'boring', 'born', 'borrow', 'boss', 'boston', 'bot', 'bother', 'bothered', 'bottle', 'bottles', 'bottom', 'bought', 'bounce', 'bound', 'bout', 'bow', 'bowl', 'bowling', 'bowwow', 'box', 'boxes', 'boy', 'boyfriend', 'boyislost', 'boyle', 'boys', 'br', 'brad', 'bradie', 'bradiewebb', 'bradiewebbstack', 'brain', 'brainstuck', 'brand', 'brandi', 'brandon', 'brandy', 'brave', 'brazil', 'brazilian', 'bread', 'break', 'breakfast', 'breaking', 'breaks', 'breath', 'breathe', 'breathing', 'bree', 'brenda', 'brentspiner', 'brett', 'bri', 'brian', 'brianmcnugget', 'bride', 'bridge', 'bridget', 'bright', 'brightondoll', 'brigwyn', 'brilliant', 'bring', 'bringing', 'brings', 'brisbane', 'brit', 'british', 'britney', 'britneyspears', 'britt', 'brittany', 'brittgoosie', 'bro', 'broadway', 'brodyjenner', 'broke', 'broken', 'bronte', 'brooke', 'brooklyn', 'broooooke', 'bros', 'brother', 'brothers', 'brought', 'brown', 'brownies', 'browser', 'bruce', 'brunch', 'bryan', 'bs', 'bsb', 'bt', 'bts', 'btw', 'bubble', 'bubbles', 'buck', 'buckhollywood', 'bucks', 'bud', 'buddies', 'buddy', 'budget', 'bueno', 'bug', 'bugger', 'bugs', 'build', 'building', 'built', 'bull', 'bum', 'bummed', 'bummer', 'bunch', 'bunny', 'burger', 'burke', 'burn', 'burned', 'burning', 'burnt', 'bus', 'business', 'busted', 'busy', 'butadream', 'butt', 'butter', 'butterfly', 'butterflykate', 'butterflywheel', 'button', 'buy', 'buying', 'buzz', 'buzzedition', 'bye', 'ca', 'cab', 'cable', 'cadistra', 'cafe', 'caffeine', 'caitlin', 'cake', 'cakes', 'cal', 'caldjr', 'calebftsk', 'calendar', 'cali', 'california', 'call', 'called', 'calling', 'calls', 'calm', 'calvin', 'calvinharris', 'cam', 'came', 'camera', 'cameron', 'cameronreilly', 'camiknickers', 'camp', 'campaign', 'camping', 'canada', 'canadian', 'cancel', 'canceled', 'cancelled', 'cancer', 'candice', 'candy', 'cannot', 'cant', 'cap', 'capplegate', 'caps', 'captain', 'car', 'cara', 'card', 'cards', 'care', 'career', 'careful', 'cares', 'cari', 'caring', 'carl', 'carla', 'carlos', 'carly', 'carol', 'carole', 'carolina', 'caroline', 'carrie', 'carry', 'cars', 'carter', 'cartoons', 'cascandar', 'case', 'casey', 'caseysevenfold', 'cash', 'cassie', 'cassieventura', 'cast', 'castle', 'casual', 'cat', 'catch', 'catching', 'catep', 'catherine', 'cathy', 'cats', 'caught', 'cause', 'caused', 'cavs', 'cazob', 'cazp', 'cb', 'cc', 'cd', 'cds', 'ce', 'ceggs', 'celeb', 'celebrate', 'celebrating', 'celebration', 'celebrity', 'celebs', 'cell', 'center', 'central', 'centre', 'century', 'cereal', 'certain', 'certainly', 'ch', 'cha', 'chad', 'chadmichmurray', 'chain', 'chair', 'challenge', 'champions', 'chan', 'chance', 'chances', 'change', 'changed', 'changes', 'changing', 'channel', 'channels', 'chantiparnell', 'chaos', 'chapter', 'char', 'character', 'characters', 'charge', 'charged', 'charger', 'charging', 'charity', 'charles', 'charlestrippy', 'charlie', 'charlieskies', 'charlotte', 'charmed', 'chase', 'chasing', 'chat', 'chatting', 'chaz', 'cheap', 'cheaper', 'cheating', 'check', 'checked', 'checking', 'cheeky', 'cheer', 'cheering', 'cheers', 'cheese', 'cheesecake', 'chef', 'chelsea', 'chem', 'chemistry', 'cherry', 'cherrythegreat', 'cheryl', 'chest', 'chesterbe', 'chesterday', 'chet', 'cheth', 'chevale', 'chi', 'chica', 'chicago', 'chick', 'chicken', 'chicks', 'child', 'childhood', 'children', 'chile', 'chili', 'chill', 'chillin', 'chilling', 'chin', 'china', 'chinese', 'chiniehdiaz', 'chip', 'chips', 'chk', 'chloe', 'chocolate', 'choice', 'choose', 'chose', 'chris', 'chrisbrogan', 'chriscornell', 'chriscuzzy', 'chrisdjmoyles', 'chrishasboobs', 'chrissy', 'christ', 'christft', 'christian', 'christina', 'christine', 'christmas', 'christy', 'chrome', 'chuck', 'chuckmemondays', 'chumfm', 'church', 'ci', 'ciaobella', 'ciara', 'cindy', 'cinema', 'circle', 'circus', 'city', 'citygirl', 'cj', 'ck', 'claim', 'claire', 'claireboyles', 'clarasdiary', 'clare', 'class', 'classes', 'classic', 'claudekelly', 'claudia', 'clean', 'cleaned', 'cleaning', 'cleaninggirl', 'clear', 'clearly', 'clever', 'click', 'clicked', 'client', 'clients', 'climb', 'clip', 'clock', 'close', 'closed', 'closer', 'closest', 'clothes', 'cloud', 'clouds', 'cloudstrife', 'cloudy', 'club', 'clue', 'cm', 'cn', 'cnn', 'cnt', 'co', 'coach', 'coast', 'cocabeenslinky', 'cochina', 'coco', 'code', 'codes', 'cody', 'coffee', 'coincidence', 'coke', 'cold', 'coldhearted', 'coldplay', 'cole', 'colin', 'collection', 'collective', 'college', 'collin', 'color', 'colorado', 'colorblindfish', 'colors', 'colour', 'columbus', 'com', 'combination', 'combo', 'combustiblesong', 'comcastbonnie', 'come', 'comeagainjen', 'comedy', 'comedyqueen', 'comes', 'comfort', 'comfy', 'comic', 'comin', 'coming', 'comment', 'comments', 'commercial', 'common', 'community', 'comp', 'company', 'compare', 'compared', 'competition', 'complain', 'complaining', 'complete', 'completed', 'completely', 'complicated', 'compliment', 'computer', 'computers', 'con', 'conan', 'concept', 'concern', 'concerned', 'concert', 'concerts', 'condolences', 'conf', 'conference', 'confident', 'confirm', 'confirmed', 'confused', 'confusing', 'congrats', 'congratulations', 'connect', 'connected', 'connection', 'consider', 'considered', 'considering', 'constant', 'constantly', 'cont', 'contact', 'contacts', 'content', 'contest', 'continue', 'contract', 'control', 'convention', 'conversation', 'conversations', 'convince', 'convinced', 'convo', 'cook', 'cooked', 'cookie', 'cookiedorksx', 'cookiemonster', 'cookies', 'cooking', 'cookleta', 'cool', 'cooler', 'coolest', 'coollike', 'cops', 'copy', 'cordon', 'core', 'corner', 'correct', 'corruptedangel', 'cory', 'cos', 'cosmicmother', 'cost', 'costs', 'couch', 'cough', 'could', 'coulda', 'couldnt', 'count', 'counter', 'counting', 'countingcrows', 'country', 'counts', 'couple', 'course', 'court', 'courtney', 'courtneysit', 'cousin', 'cousins', 'cover', 'coverage', 'covered', 'covers', 'cow', 'coy', 'coz', 'cp', 'cr', 'crack', 'craig', 'craigeryowens', 'cramps', 'crap', 'crappy', 'crash', 'crashed', 'crashes', 'crashing', 'craving', 'crazy', 'crazytwism', 'crc', 'cre', 'cream', 'create', 'created', 'creative', 'credit', 'creepy', 'crew', 'cricket', 'cried', 'cries', 'crime', 'critic', 'cross', 'crossed', 'crossing', 'crowd', 'crucifire', 'cruel', 'cruise', 'crunchyk', 'crusaderz', 'crush', 'cry', 'crying', 'crystal', 'crystalchappell', 'csi', 'ct', 'ctham', 'cu', 'cud', 'cuddle', 'cullen', 'culture', 'cum', 'cup', 'cupcake', 'cupcakes', 'cure', 'curious', 'current', 'currently', 'curry', 'curse', 'curve', 'cus', 'custom', 'customer', 'customers', 'cut', 'cute', 'cutest', 'cutie', 'cuts', 'cutting', 'cuz', 'cycle', 'cyrus', 'da', 'dad', 'daddy', 'dads', 'daily', 'dallas', 'dam', 'damage', 'dammit', 'damn', 'damned', 'damnit', 'dan', 'dance', 'dancing', 'dang', 'danger', 'dangerous', 'daniel', 'danny', 'dare', 'dark', 'darlin', 'darling', 'darn', 'dat', 'data', 'date', 'dates', 'dating', 'dats', 'daughter', 'daughtry', 'dave', 'david', 'davis', 'dawn', 'day', 'days', 'db', 'dc', 'dd', 'ddlovato', 'de', 'dead', 'deal', 'dealing', 'dean', 'dear', 'death', 'december', 'decent', 'decide', 'decided', 'decision', 'deck', 'dee', 'deep', 'def', 'default', 'definately', 'definitely', 'definition', 'defo', 'degree', 'degrees', 'del', 'delay', 'delayed', 'delete', 'deleted', 'delicious', 'delish', 'deliver', 'delivered', 'delivery', 'delongeday', 'dem', 'demand', 'demi', 'demo', 'den', 'dentist', 'depending', 'depends', 'depressed', 'depressing', 'der', 'description', 'desert', 'deserve', 'deserved', 'deserves', 'design', 'designer', 'designs', 'desire', 'desk', 'desktop', 'desperate', 'despite', 'detail', 'details', 'determined', 'detroit', 'dev', 'development', 'devil', 'dh', 'di', 'dick', 'didnt', 'die', 'died', 'diego', 'dies', 'diet', 'diff', 'difference', 'different', 'difficult', 'dig', 'digg', 'digital', 'din', 'ding', 'dinner', 'dip', 'direct', 'direction', 'directly', 'dirty', 'dis', 'disappear', 'disappeared', 'disappointed', 'disappointing', 'disappointment', 'disconnected', 'discount', 'discovered', 'discuss', 'discussion', 'disgusting', 'dish', 'dishes', 'dislike', 'disney', 'display', 'dissapointed', 'distance', 'distracted', 'disturbing', 'ditto', 'diva', 'diversity', 'divorce', 'dj', 'dk', 'dl', 'dm', 'dmb', 'dms', 'dnt', 'doc', 'docs', 'doctor', 'doctors', 'doesnt', 'dog', 'dogs', 'doh', 'doin', 'doll', 'dollar', 'dollars', 'dolls', 'domain', 'done', 'dong', 'dont', 'dontyouhate', 'donuts', 'doo', 'door', 'doors', 'dope', 'dork', 'dot', 'double', 'doubt', 'dougie', 'download', 'downloaded', 'downloading', 'downside', 'downstairs', 'downtown', 'dr', 'drag', 'drake', 'drama', 'drank', 'draw', 'drawing', 'dream', 'dreaming', 'dreams', 'dress', 'dressed', 'dresses', 'drew', 'drink', 'drinking', 'drinks', 'drive', 'driver', 'drivers', 'drives', 'driving', 'drop', 'dropped', 'dropping', 'drops', 'drove', 'drugs', 'drums', 'drunk', 'dry', 'ds', 'dt', 'dubai', 'dublin', 'duck', 'dude', 'dudes', 'due', 'duh', 'dull', 'dumb', 'dun', 'dunno', 'dust', 'dutch', 'duty', 'dvd', 'dvds', 'dvr', 'dw', 'dying', 'ea', 'eachother', 'ear', 'earlier', 'early', 'earn', 'ears', 'earth', 'easier', 'easily', 'east', 'eastwest', 'easy', 'eat', 'eaten', 'eatin', 'eating', 'eats', 'ebay', 'echelon', 'economy', 'ed', 'edge', 'edit', 'editing', 'edition', 'education', 'edward', 'eek', 'eff', 'effect', 'effects', 'effing', 'effort', 'egg', 'eggs', 'ego', 'eh', 'either', 'el', 'electric', 'eleven', 'elizabeth', 'elle', 'ellen', 'else', 'em', 'email', 'emailed', 'emails', 'embarrassed', 'embarrassing', 'emergency', 'emily', 'eminem', 'emma', 'emo', 'emotional', 'empty', 'en', 'encouraging', 'end', 'ended', 'ending', 'ends', 'energy', 'engine', 'england', 'english', 'enigma', 'enjoy', 'enjoyed', 'enjoying', 'enough', 'enter', 'entertaining', 'entertainment', 'entire', 'entirely', 'entry', 'enuf', 'envious', 'envy', 'ep', 'epic', 'episode', 'episodes', 'er', 'eric', 'erica', 'erm', 'err', 'error', 'es', 'escape', 'esp', 'especially', 'essay', 'est', 'et', 'etc', 'etsy', 'eu', 'europe', 'european', 'eurovision', 'eva', 'even', 'evening', 'event', 'events', 'eventually', 'ever', 'everbrandy', 'everton', 'every', 'everybody', 'everyday', 'everyone', 'everyones', 'everything', 'everythings', 'everytime', 'everywhere', 'evil', 'ew', 'eww', 'ewww', 'ex', 'exact', 'exactly', 'exam', 'example', 'exams', 'excellent', 'except', 'exchange', 'excited', 'excitement', 'exciting', 'excuse', 'exec', 'exercise', 'exhausted', 'exist', 'expect', 'expected', 'expecting', 'expensive', 'experience', 'explain', 'explains', 'extra', 'extremely', 'eye', 'eyed', 'eyes', 'fa', 'fab', 'fabulous', 'face', 'facebook', 'faces', 'fact', 'factor', 'fade', 'fail', 'failed', 'failing', 'fails', 'failure', 'fair', 'fairly', 'fairy', 'faith', 'fake', 'fall', 'fallen', 'falling', 'false', 'fam', 'fame', 'familiar', 'families', 'family', 'famous', 'fan', 'fancy', 'fans', 'fantastic', 'fantasy', 'far', 'farewell', 'farrah', 'fascinating', 'fashion', 'fast', 'faster', 'fat', 'father', 'fathers', 'fault', 'fav', 'fave', 'faves', 'favor', 'favorite', 'favorites', 'favourite', 'favs', 'fawcett', 'fb', 'fc', 'fear', 'feature', 'features', 'feb', 'fed', 'feed', 'feedback', 'feel', 'feelin', 'feeling', 'feelings', 'feels', 'feet', 'fell', 'fella', 'fellow', 'felt', 'female', 'fest', 'festival', 'fever', 'ff', 'fi', 'fic', 'field', 'fight', 'fighting', 'figure', 'figured', 'figuring', 'file', 'files', 'fill', 'filled', 'filling', 'film', 'films', 'final', 'finale', 'finally', 'finals', 'find', 'finding', 'fine', 'finger', 'fingers', 'finish', 'finished', 'finishing', 'fire', 'fired', 'firefox', 'first', 'fischi', 'fish', 'fishing', 'fit', 'five', 'fix', 'fixed', 'fixing', 'fl', 'flash', 'flat', 'flawless', 'flew', 'flickr', 'flight', 'flights', 'flik', 'flip', 'floor', 'florida', 'flower', 'flowers', 'flu', 'fly', 'flying', 'flylady', 'fm', 'fml', 'fo', 'focus', 'folder', 'folk', 'folks', 'follow', 'followed', 'follower', 'followers', 'followfriday', 'followin', 'following', 'follows', 'fone', 'food', 'foods', 'fool', 'foot', 'football', 'force', 'forced', 'forecast', 'forever', 'forget', 'forgetting', 'forgive', 'forgot', 'forgotten', 'form', 'forourhero', 'fortune', 'forum', 'forums', 'forward', 'foster', 'found', 'four', 'fox', 'fr', 'france', 'francisco', 'frank', 'freak', 'freakin', 'freaking', 'free', 'freedom', 'freezing', 'french', 'fresh', 'fri', 'friday', 'fridays', 'fridge', 'fried', 'friend', 'friendly', 'friends', 'fries', 'friggin', 'fringe', 'frm', 'frog', 'front', 'frozen', 'fruit', 'frustrated', 'frustrating', 'ft', 'ftw', 'fuck', 'fucked', 'fuckin', 'fucking', 'fuel', 'full', 'fully', 'fun', 'function', 'funds', 'funniest', 'funny', 'furniture', 'future', 'fyi', 'ga', 'gaba', 'gaga', 'gah', 'gahh', 'gal', 'gallery', 'game', 'games', 'gaming', 'garage', 'garden', 'gas', 'gasp', 'gate', 'gave', 'gay', 'gb', 'gd', 'gear', 'gee', 'geek', 'geeks', 'geez', 'gen', 'general', 'generally', 'generous', 'genius', 'george', 'georgia', 'german', 'germany', 'get', 'gets', 'gettin', 'getting', 'gf', 'gg', 'ghost', 'giant', 'gift', 'gifts', 'gig', 'giggle', 'giggles', 'gigs', 'gimme', 'gin', 'ginger', 'girl', 'girlfriend', 'girlie', 'girls', 'girly', 'git', 'give', 'giveaway', 'given', 'gives', 'giving', 'gl', 'glad', 'glasgow', 'glass', 'glasses', 'glorious', 'gm', 'gmail', 'go', 'goal', 'god', 'goes', 'goin', 'going', 'gold', 'golden', 'golf', 'gon', 'gona', 'gone', 'gonna', 'good', 'goodbye', 'goodluck', 'goodmorning', 'goodness', 'goodnight', 'goodsex', 'google', 'goood', 'gooood', 'goooood', 'gorgeous', 'gorham', 'gosh', 'gossip', 'got', 'gotcha', 'gots', 'gotta', 'gotten', 'gov', 'gr', 'grab', 'grace', 'grad', 'grade', 'graduate', 'graduated', 'graduating', 'graduation', 'grand', 'grandma', 'graphic', 'grass', 'grateful', 'gray', 'great', 'greatest', 'greatly', 'greek', 'green', 'greet', 'greetings', 'grew', 'grey', 'grill', 'grin', 'grocery', 'gross', 'ground', 'group', 'groups', 'grow', 'growing', 'grown', 'grr', 'grrr', 'grrrr', 'gs', 'gt', 'gud', 'gue', 'guess', 'guessed', 'guessing', 'guest', 'guide', 'guilty', 'guitar', 'gum', 'gun', 'gunna', 'guns', 'gurl', 'gutted', 'guy', 'guys', 'gw', 'gym', 'ha', 'habit', 'hack', 'hacked', 'hah', 'haha', 'hahaa', 'hahah', 'hahaha', 'hahahah', 'hahahaha', 'hahahahah', 'hahahahaha', 'hai', 'hair', 'haircut', 'half', 'hall', 'halo', 'hammer', 'hand', 'handed', 'handle', 'hands', 'handsome', 'handy', 'hang', 'hangin', 'hanging', 'hangover', 'hannah', 'happen', 'happend', 'happened', 'happening', 'happens', 'happier', 'happiness', 'happy', 'hard', 'hardcore', 'harder', 'hardest', 'hardly', 'hardware', 'harper', 'harry', 'harsh', 'hashtag', 'hasnt', 'hat', 'hate', 'hated', 'hater', 'haters', 'hates', 'hating', 'hav', 'havent', 'haveyouever', 'havin', 'havnt', 'hawaii', 'hay', 'hayles', 'hd', 'head', 'headache', 'headaches', 'headed', 'heading', 'headphones', 'heads', 'heal', 'health', 'healthy', 'heaps', 'hear', 'heard', 'hearing', 'heart', 'hearts', 'heat', 'heaven', 'heavy', 'heck', 'hee', 'heeey', 'heehee', 'heels', 'heey', 'heh', 'hehe', 'heheh', 'hehehe', 'held', 'hell', 'hella', 'hello', 'help', 'helped', 'helpful', 'helping', 'helps', 'hence', 'hero', 'heroes', 'hes', 'hey', 'heya', 'heyy', 'heyyy', 'hh', 'hi', 'hide', 'hiding', 'high', 'higher', 'highest', 'highly', 'hii', 'hilarious', 'hill', 'hills', 'hilton', 'hint', 'hip', 'hire', 'hiring', 'history', 'hit', 'hits', 'hitting', 'hiya', 'hm', 'hmm', 'hmmm', 'hmmmm', 'hmph', 'ho', 'hockey', 'hola', 'hold', 'holden', 'holding', 'holds', 'hole', 'holiday', 'holidays', 'holla', 'holly', 'hollywood', 'holy', 'home', 'homemade', 'homes', 'homework', 'homie', 'hon', 'honest', 'honestly', 'honey', 'honor', 'honored', 'hoo', 'hood', 'hook', 'hooked', 'hooray', 'hop', 'hope', 'hoped', 'hopefully', 'hopes', 'hoping', 'hoppusday', 'horny', 'horrible', 'horror', 'horse', 'hospital', 'host', 'hosting', 'hot', 'hotel', 'hott', 'hotter', 'hotwords', 'hour', 'hours', 'house', 'housewife', 'houston', 'howard', 'howdy', 'however', 'hows', 'hp', 'hr', 'hrs', 'hs', 'html', 'http', 'hubby', 'hug', 'huge', 'hugh', 'hugs', 'huh', 'huhu', 'human', 'humans', 'humor', 'humour', 'hun', 'hundred', 'hung', 'hungry', 'hunny', 'hunt', 'hunting', 'hurry', 'hurt', 'hurting', 'hurts', 'husband', 'hv', 'hve', 'hw', 'hype', 'hyper', 'ia', 'iamsoannoyed', 'ian', 'ice', 'icecream', 'icon', 'id', 'idea', 'ideas', 'idiot', 'idiots', 'idk', 'idol', 'ie', 'ignore', 'ignored', 'ignoring', 'ii', 'ikr', 'il', 'ill', 'ily', 'im', 'ima', 'image', 'images', 'imagine', 'imma', 'immediately', 'important', 'impossible', 'impressed', 'impression', 'impressive', 'improve', 'inaperfectworld', 'inbox', 'inch', 'include', 'included', 'including', 'incredible', 'incredibly', 'indeed', 'index', 'india', 'indian', 'indiana', 'indienation', 'indonesia', 'indy', 'infamous', 'infection', 'info', 'information', 'informed', 'ing', 'injured', 'ink', 'innocent', 'insane', 'inside', 'insomnia', 'inspiration', 'inspired', 'inspiring', 'install', 'installed', 'installing', 'instant', 'instead', 'insurance', 'intelligent', 'intense', 'interest', 'interested', 'interesting', 'international', 'internet', 'interview', 'interviews', 'intruder', 'invite', 'invited', 'involved', 'iowa', 'iphone', 'ipod', 'iran', 'iranelection', 'ireland', 'iremember', 'irish', 'irl', 'iron', 'ish', 'island', 'isnt', 'issue', 'issues', 'ist', 'italian', 'italy', 'item', 'items', 'itunes', 'iv', 'ive', 'iya', 'iz', 'ja', 'jack', 'jacket', 'jackson', 'jacob', 'jail', 'jake', 'jam', 'james', 'jane', 'january', 'japan', 'japanese', 'jared', 'jaredpadalecki', 'jason', 'java', 'jay', 'jazz', 'jb', 'je', 'jealous', 'jeans', 'jeez', 'jeff', 'jelly', 'jen', 'jenny', 'jensen', 'jerk', 'jersey', 'jess', 'jessica', 'jesus', 'jet', 'jg', 'jim', 'jimmy', 'jk', 'jo', 'job', 'jobs', 'joe', 'joey', 'john', 'johnson', 'join', 'joined', 'joining', 'joint', 'joke', 'jokes', 'joking', 'jon', 'jonas', 'jonasbrothers', 'jones', 'jordan', 'josh', 'journey', 'joy', 'jr', 'jst', 'judge', 'juice', 'julia', 'julian', 'july', 'jump', 'jumped', 'jumping', 'june', 'junk', 'jus', 'justin', 'ka', 'kasi', 'kat', 'kate', 'katie', 'kay', 'kc', 'ke', 'keep', 'keeping', 'keeps', 'kelly', 'kept', 'kevin', 'key', 'keyboard', 'keys', 'kick', 'kicked', 'kicking', 'kicks', 'kid', 'kidding', 'kids', 'kill', 'killed', 'killer', 'killing', 'kills', 'kim', 'kind', 'kinda', 'kindle', 'kinds', 'king', 'kings', 'kiss', 'kisses', 'kit', 'kitchen', 'kitten', 'kittens', 'kitty', 'kk', 'kl', 'knee', 'knew', 'knight', 'kno', 'knock', 'knocked', 'know', 'knowing', 'knowledge', 'known', 'knows', 'knowww', 'knw', 'ko', 'kobe', 'kool', 'kris', 'kristen', 'kutekreations', 'la', 'lab', 'lack', 'lad', 'ladies', 'lady', 'lah', 'laid', 'lake', 'laker', 'lakers', 'lamb', 'lambert', 'lame', 'land', 'lang', 'language', 'laptop', 'large', 'las', 'last', 'lasted', 'late', 'lately', 'later', 'latest', 'laugh', 'laughed', 'laughing', 'laughs', 'launch', 'laundry', 'laura', 'lauren', 'law', 'lawn', 'lay', 'laying', 'layout', 'lazy', 'lb', 'lbs', 'le', 'lead', 'leader', 'league', 'leak', 'learn', 'learned', 'learning', 'learnt', 'least', 'leave', 'leaves', 'leaving', 'lebron', 'lee', 'left', 'leg', 'legal', 'legend', 'legit', 'legs', 'lemme', 'lemon', 'length', 'lens', 'leon', 'lesbian', 'less', 'lesson', 'lessons', 'let', 'lets', 'letter', 'letting', 'level', 'levels', 'lewis', 'lg', 'library', 'license', 'lie', 'lies', 'life', 'lifetime', 'lift', 'light', 'lighter', 'lightning', 'lights', 'like', 'liked', 'likely', 'likes', 'liking', 'lil', 'lily', 'limit', 'limited', 'lindsay', 'line', 'lines', 'link', 'linked', 'links', 'linux', 'lion', 'lip', 'lips', 'lisa', 'list', 'listed', 'listen', 'listened', 'listening', 'lit', 'literally', 'little', 'live', 'lived', 'liverpool', 'lives', 'living', 'liz', 'lj', 'lmao', 'lmaoo', 'lmfao', 'lo', 'load', 'loading', 'loads', 'lobster', 'local', 'location', 'lock', 'locked', 'log', 'logo', 'lol', 'loll', 'lolol', 'lolz', 'london', 'lonely', 'long', 'longer', 'longest', 'longestpoemintheworld', 'look', 'looked', 'lookin', 'looking', 'looks', 'looove', 'loop', 'loose', 'lord', 'los', 'lose', 'loser', 'losing', 'loss', 'lost', 'lot', 'lots', 'loud', 'lounge', 'love', 'loved', 'lovee', 'lovely', 'lover', 'lovers', 'loves', 'lovin', 'loving', 'low', 'lower', 'luck', 'luckily', 'lucky', 'lucy', 'luke', 'lunch', 'lush', 'luv', 'lvatt', 'ly', 'lying', 'lyrics', 'mac', 'macbook', 'machine', 'mad', 'made', 'madness', 'mag', 'magazine', 'magic', 'mah', 'mail', 'main', 'maine', 'mainly', 'maintenance', 'major', 'make', 'makes', 'makeup', 'makin', 'making', 'male', 'mall', 'mama', 'man', 'manage', 'managed', 'management', 'manager', 'manchester', 'mandy', 'manila', 'many', 'map', 'marathon', 'march', 'mares', 'maria', 'mariah', 'marie', 'mark', 'market', 'marketing', 'marks', 'married', 'marry', 'mars', 'marsiscoming', 'martin', 'mary', 'mas', 'mass', 'massage', 'massive', 'master', 'match', 'mate', 'material', 'mates', 'math', 'maths', 'matt', 'matter', 'matters', 'mauricio', 'max', 'maxwell', 'may', 'maybe', 'mb', 'mc', 'mcfly', 'mcflyforgermany', 'md', 'meal', 'mean', 'meaning', 'means', 'meant', 'meat', 'media', 'medicine', 'meds', 'mee', 'meee', 'meeee', 'meet', 'meeting', 'meetings', 'mega', 'megan', 'meh', 'mel', 'melbourne', 'melted', 'member', 'members', 'memorial', 'memories', 'memory', 'men', 'mental', 'mention', 'mentioned', 'mess', 'message', 'messages', 'messed', 'messing', 'met', 'metal', 'metro', 'mexican', 'mexico', 'mi', 'mia', 'miami', 'michael', 'michelle', 'microsoft', 'mid', 'middle', 'midnight', 'mie', 'might', 'mighty', 'migraine', 'mike', 'mikenewton', 'milano', 'mile', 'miles', 'miley', 'mileycyrus', 'milk', 'million', 'min', 'mind', 'minds', 'mine', 'mines', 'mini', 'minor', 'mins', 'minus', 'minute', 'minutes', 'mirror', 'miserable', 'miss', 'missb', 'missed', 'misses', 'missin', 'missing', 'mission', 'misss', 'missy', 'mistake', 'mistakes', 'mister', 'mix', 'mixed', 'mixing', 'mj', 'mk', 'mm', 'mmm', 'mmmm', 'mmmmm', 'mms', 'mo', 'mobile', 'mode', 'model', 'models', 'moisesarias', 'mom', 'moment', 'moments', 'momma', 'mommy', 'moms', 'mon', 'monday', 'mondays', 'money', 'monica', 'monitor', 'monkey', 'monkeys', 'monster', 'montana', 'month', 'months', 'montreal', 'mood', 'moon', 'moore', 'morley', 'morn', 'mornin', 'morning', 'mornings', 'moro', 'morrow', 'mostly', 'mother', 'mothers', 'motivation', 'mountain', 'mountains', 'mouse', 'mouth', 'move', 'moved', 'moves', 'movie', 'movies', 'moving', 'mp', 'mr', 'mrs', 'mrtweet', 'ms', 'msg', 'msn', 'mtv', 'muah', 'much', 'mucho', 'multi', 'multiple', 'mum', 'mums', 'muscle', 'muse', 'museum', 'music', 'musical', 'musicmonday', 'must', 'mw', 'mwah', 'myloc', 'myspace', 'mystery', 'myweakness', 'na', 'nada', 'nadal', 'nah', 'nail', 'nails', 'naked', 'naman', 'name', 'named', 'names', 'nancy', 'nap', 'nasty', 'nation', 'national', 'natural', 'nature', 'naughty', 'naw', 'nba', 'nc', 'ncis', 'nd', 'ne', 'near', 'nearly', 'neat', 'necessary', 'neck', 'necklace', 'need', 'needed', 'needs', 'negative', 'neighbor', 'neighborhood', 'neighbors', 'neither', 'neon', 'nephew', 'nerd', 'nervous', 'ness', 'net', 'network', 'networking', 'neva', 'never', 'nevermind', 'new', 'newcastle', 'newest', 'news', 'next', 'ng', 'nga', 'nh', 'ni', 'nice', 'nicely', 'nicer', 'nick', 'nickname', 'nicole', 'niece', 'nigga', 'night', 'nightmare', 'nightmares', 'nights', 'nighty', 'niley', 'nine', 'ninja', 'nite', 'niteboy', 'nj', 'nk', 'nkotb', 'nl', 'nm', 'nobody', 'noes', 'noise', 'nokia', 'nom', 'non', 'none', 'noo', 'noodles', 'noon', 'noone', 'nooo', 'noooo', 'nooooo', 'noooooo', 'nope', 'normal', 'normally', 'north', 'northern', 'norway', 'nose', 'note', 'notes', 'nothin', 'nothing', 'notice', 'noticed', 'noundiessunday', 'november', 'nowadays', 'nowhere', 'np', 'nt', 'nu', 'nuggets', 'number', 'numbers', 'nurse', 'nut', 'nuts', 'nw', 'nxt', 'ny', 'nyc', 'nz', 'obama', 'obsessed', 'obvious', 'obviously', 'oc', 'ocean', 'october', 'od', 'odd', 'ofcourse', 'offended', 'offer', 'offered', 'office', 'official', 'officially', 'offline', 'often', 'oh', 'ohh', 'ohhh', 'ohhhh', 'ohio', 'oi', 'oil', 'ok', 'okay', 'ol', 'old', 'older', 'oldest', 'ole', 'omarion', 'omfg', 'omg', 'one', 'ones', 'online', 'ontario', 'ontd', 'onto', 'oo', 'ooc', 'ooh', 'ooo', 'oooh', 'oooo', 'ooooh', 'oops', 'open', 'opened', 'opening', 'opera', 'ophelia', 'opinion', 'opportunity', 'opposite', 'oprah', 'option', 'options', 'orange', 'order', 'ordered', 'org', 'original', 'orlando', 'os', 'ot', 'otalia', 'others', 'otherwise', 'ou', 'ouch', 'outfit', 'outside', 'outta', 'oven', 'overall', 'overnight', 'ow', 'owe', 'owl', 'owner', 'oz', 'pa', 'pack', 'package', 'packed', 'packing', 'pad', 'page', 'pages', 'paid', 'pain', 'painful', 'pains', 'paint', 'painting', 'pair', 'pal', 'palm', 'pan', 'pancakes', 'panda', 'panel', 'panic', 'pants', 'papa', 'paper', 'papers', 'parade', 'paramore', 'paranoid', 'parent', 'parents', 'paris', 'park', 'parking', 'part', 'particular', 'particularly', 'parties', 'partner', 'parts', 'party', 'partying', 'pass', 'passed', 'passes', 'passing', 'passion', 'password', 'past', 'pasta', 'paste', 'pathetic', 'patience', 'patrick', 'paul', 'paula', 'pay', 'paying', 'pb', 'pc', 'pe', 'peace', 'peaceful', 'peanut', 'pearl', 'pee', 'peeps', 'pen', 'penguin', 'penny', 'pens', 'people', 'peoples', 'pepper', 'pepsi', 'per', 'percentgrey', 'perfect', 'perfectly', 'perform', 'performance', 'performing', 'perhaps', 'period', 'pero', 'perry', 'person', 'personal', 'personally', 'perspective', 'perth', 'pet', 'pete', 'peter', 'pets', 'pg', 'ph', 'phew', 'phil', 'philippines', 'philly', 'phoenix', 'phone', 'phones', 'photo', 'photographer', 'photography', 'photos', 'photoshop', 'php', 'phrase', 'physics', 'pi', 'piano', 'pic', 'pick', 'picked', 'picking', 'pickle', 'picks', 'picnic', 'pics', 'picture', 'pictures', 'pie', 'piece', 'pieces', 'pig', 'pillow', 'pills', 'pilot', 'pin', 'ping', 'pink', 'piss', 'pissed', 'pit', 'pitch', 'pity', 'pix', 'pixar', 'pizza', 'place', 'places', 'plain', 'plan', 'plane', 'planet', 'planned', 'planning', 'plans', 'plant', 'plastic', 'plate', 'play', 'playboy', 'played', 'player', 'players', 'playin', 'playing', 'playlist', 'plays', 'pleasant', 'please', 'pleased', 'pleasure', 'plenty', 'pls', 'plug', 'plugin', 'plurk', 'plus', 'plz', 'pm', 'po', 'pocket', 'podcast', 'poem', 'point', 'pointless', 'points', 'poisoning', 'poker', 'police', 'politics', 'poo', 'pool', 'poop', 'poor', 'pop', 'popcorn', 'pops', 'popular', 'pork', 'porn', 'port', 'portuguese', 'position', 'positive', 'possible', 'possibly', 'post', 'posted', 'poster', 'posting', 'posts', 'pot', 'potato', 'potatoes', 'potter', 'pounds', 'pour', 'pouring', 'power', 'powers', 'ppl', 'pr', 'practically', 'practice', 'praise', 'pray', 'prayer', 'prayers', 'praying', 'pre', 'precious', 'prefer', 'premium', 'prepare', 'prepared', 'preparing', 'present', 'presentation', 'presents', 'president', 'press', 'pressure', 'pretend', 'pretty', 'preview', 'previous', 'price', 'prices', 'pride', 'prime', 'prince', 'princess', 'print', 'printchick', 'printed', 'private', 'prize', 'pro', 'prob', 'probably', 'problem', 'problems', 'probs', 'process', 'product', 'production', 'productive', 'products', 'professional', 'profile', 'program', 'progress', 'project', 'projects', 'prolly', 'prom', 'promise', 'promised', 'promo', 'promote', 'proof', 'proper', 'properly', 'props', 'proud', 'provided', 'ps', 'pt', 'pub', 'public', 'publish', 'published', 'pull', 'pulled', 'pulling', 'pumped', 'pun', 'punch', 'punk', 'pup', 'puppies', 'puppy', 'purchase', 'pure', 'purple', 'purpose', 'purse', 'push', 'pushed', 'pushing', 'put', 'puts', 'putting', 'qu', 'quality', 'quarter', 'que', 'queen', 'question', 'questions', 'quick', 'quickly', 'quiet', 'quit', 'quite', 'quiz', 'quote', 'quotes', 'race', 'rachel', 'rad', 'radio', 'rain', 'rainbow', 'rained', 'raining', 'rains', 'rainy', 'raise', 'raised', 'ran', 'random', 'randomly', 'range', 'rap', 'rare', 'rarely', 'rat', 'rate', 'rated', 'rather', 'raw', 'ray', 'rd', 'reach', 'reached', 'reaction', 'read', 'reader', 'reading', 'ready', 'real', 'realise', 'realised', 'reality', 'realize', 'realized', 'really', 'reason', 'reasons', 'rebecca', 'rebel', 'receive', 'received', 'recent', 'recently', 'reception', 'recipe', 'reckon', 'recommend', 'recommendation', 'recommendations', 'record', 'recorded', 'recording', 'records', 'recovering', 'recovery', 'red', 'reference', 'referring', 'refresh', 'refreshing', 'refuse', 'regarding', 'regardless', 'regret', 'regular', 'relate', 'related', 'relationship', 'relax', 'relaxing', 'release', 'released', 'relief', 'relieve', 'remember', 'remembered', 'remind', 'reminded', 'reminder', 'reminding', 'reminds', 'remix', 'remote', 'remove', 'removed', 'rent', 'rep', 'repeat', 'replace', 'replaced', 'replacement', 'replied', 'replies', 'reply', 'replying', 'report', 'reports', 'request', 'requests', 'rescue', 'research', 'resist', 'respect', 'respond', 'responding', 'response', 'rest', 'restaurant', 'result', 'results', 'retarded', 'return', 'returned', 'retweet', 'reunion', 'revenge', 'review', 'reviews', 'revise', 'revising', 'revision', 'ribs', 'rice', 'rich', 'rick', 'rid', 'ride', 'ridiculous', 'riding', 'right', 'rights', 'ring', 'rings', 'rip', 'rise', 'risk', 'rite', 'river', 'rlly', 'rly', 'rn', 'ro', 'road', 'roast', 'rob', 'robert', 'robin', 'robot', 'rock', 'rocked', 'rockin', 'rocking', 'rocks', 'rocky', 'rofl', 'role', 'roll', 'rolling', 'rolls', 'romance', 'romantic', 'ron', 'roof', 'room', 'root', 'rooting', 'rose', 'ross', 'rough', 'round', 'route', 'row', 'royal', 'rr', 'rss', 'rt', 'rub', 'rubbish', 'rude', 'rugby', 'ruin', 'ruined', 'rule', 'rules', 'run', 'running', 'runs', 'rush', 'ryan', 'sa', 'sad', 'sadly', 'sadness', 'safari', 'safe', 'safely', 'said', 'sake', 'salad', 'sale', 'sales', 'salon', 'salt', 'sam', 'samantha', 'san', 'sanctuarysunday', 'sandwich', 'sang', 'santi', 'sarah', 'sarcasm', 'sat', 'saturday', 'saturdays', 'sauce', 'sausage', 'sausages', 'save', 'saved', 'saving', 'saw', 'say', 'sayang', 'sayin', 'saying', 'says', 'scare', 'scared', 'scary', 'scene', 'schedule', 'school', 'schools', 'sci', 'science', 'score', 'scored', 'scotland', 'scott', 'scottish', 'scratch', 'scream', 'screaming', 'screen', 'screw', 'screwed', 'script', 'sd', 'se', 'sea', 'sean', 'search', 'searched', 'searching', 'season', 'seasons', 'seat', 'seats', 'seattle', 'seb', 'sec', 'second', 'seconds', 'secondstomars', 'secret', 'secrets', 'section', 'security', 'see', 'seeing', 'seem', 'seemed', 'seems', 'seen', 'self', 'selfish', 'sell', 'selling', 'semester', 'semi', 'send', 'sending', 'sends', 'senior', 'sense', 'sent', 'seo', 'sept', 'september', 'series', 'serious', 'seriously', 'serve', 'server', 'servers', 'service', 'services', 'session', 'sessions', 'set', 'sets', 'setting', 'settings', 'settle', 'seven', 'several', 'sex', 'sexy', 'sf', 'sg', 'sh', 'shades', 'shake', 'shakes', 'shaking', 'shall', 'shame', 'shannon', 'shape', 'share', 'shared', 'sharing', 'shaun', 'shaundiviney', 'shaunjumpnow', 'sheesh', 'sheet', 'shelf', 'shes', 'shhh', 'shift', 'shifts', 'shine', 'shining', 'shiny', 'ship', 'shipping', 'shirt', 'shirts', 'shit', 'shitty', 'sho', 'shock', 'shocked', 'shoe', 'shoes', 'shoot', 'shooting', 'shop', 'shopping', 'short', 'shorter', 'shortly', 'shorts', 'shortstack', 'shot', 'shots', 'shoulda', 'shoulder', 'shout', 'shoutout', 'show', 'showed', 'shower', 'showing', 'shown', 'shows', 'shucks', 'shud', 'shut', 'shy', 'si', 'sick', 'sickness', 'side', 'sigh', 'sighs', 'sight', 'sign', 'signal', 'signed', 'signing', 'signs', 'silly', 'silver', 'sim', 'similar', 'simon', 'simple', 'simply', 'sims', 'sin', 'since', 'sing', 'singapore', 'singer', 'singing', 'single', 'sings', 'sir', 'sis', 'sista', 'sister', 'sisters', 'sit', 'site', 'sites', 'sitting', 'situation', 'six', 'sixty', 'size', 'skies', 'skills', 'skin', 'skinny', 'skip', 'skittles', 'skool', 'sky', 'skype', 'slap', 'sleep', 'sleeping', 'sleepy', 'slept', 'slice', 'slide', 'slightly', 'slip', 'slow', 'slowly', 'sm', 'small', 'smaller', 'smart', 'smell', 'smells', 'smh', 'smile', 'smiles', 'smiley', 'smiling', 'smith', 'smoke', 'smoking', 'smooth', 'sms', 'snack', 'snap', 'sneak', 'sniff', 'sniffle', 'snow', 'snuggle', 'soap', 'sob', 'sober', 'soccer', 'social', 'society', 'socks', 'soda', 'soft', 'software', 'sold', 'solid', 'solo', 'solution', 'somebody', 'someday', 'somehow', 'someone', 'somethin', 'something', 'sometime', 'sometimes', 'somewhat', 'somewhere', 'son', 'song', 'songs', 'sonic', 'sony', 'soo', 'soon', 'sooner', 'sooo', 'soooo', 'sooooo', 'soooooo', 'sophie', 'sore', 'sorry', 'sort', 'sorta', 'sorted', 'soul', 'sound', 'sounded', 'sounds', 'soundtrack', 'soup', 'source', 'south', 'sox', 'sp', 'space', 'spain', 'spam', 'spammers', 'spanish', 'spare', 'speak', 'speakers', 'speaking', 'special', 'specific', 'speech', 'speed', 'spell', 'spelled', 'spelling', 'spend', 'spending', 'spent', 'spicy', 'spider', 'spirit', 'split', 'spoil', 'spoiled', 'spoilers', 'spoke', 'spoken', 'sport', 'sports', 'spot', 'spotify', 'spray', 'spread', 'spreading', 'spring', 'springs', 'spymaster', 'square', 'squarespace', 'srry', 'srsly', 'sry', 'ss', 'st', 'stack', 'staff', 'stage', 'stairs', 'stalk', 'stalker', 'stalking', 'stand', 'standard', 'standing', 'star', 'starbucks', 'staring', 'stars', 'start', 'started', 'starting', 'starts', 'starving', 'state', 'statement', 'states', 'station', 'stats', 'status', 'stavros', 'stay', 'stayed', 'staying', 'stays', 'steak', 'steal', 'stealing', 'step', 'steph', 'steps', 'steve', 'stick', 'stil', 'still', 'stinks', 'stm', 'stmluva', 'stock', 'stoked', 'stole', 'stolen', 'stomach', 'stone', 'stood', 'stop', 'stopped', 'stopping', 'stops', 'storage', 'store', 'stores', 'stories', 'storm', 'storms', 'story', 'straight', 'strange', 'stranger', 'strawberries', 'strawberry', 'stream', 'streaming', 'street', 'strength', 'stress', 'stressed', 'stressful', 'stretch', 'strike', 'strong', 'stuck', 'student', 'students', 'studio', 'study', 'studying', 'stuff', 'stuffed', 'stunning', 'stupid', 'style', 'subject', 'subway', 'success', 'successful', 'suck', 'sucked', 'sucks', 'sucky', 'suddenly', 'sue', 'suffer', 'suffering', 'sugar', 'suggest', 'suggestion', 'suggestions', 'suit', 'sum', 'summer', 'summit', 'sun', 'sunburn', 'sunday', 'sundays', 'sunglasses', 'sunny', 'sunrise', 'sunshine', 'sup', 'super', 'supernatural', 'support', 'suppose', 'supposed', 'sure', 'surely', 'surgery', 'surprise', 'surprised', 'survive', 'survived', 'susan', 'sushi', 'suspect', 'suspended', 'sux', 'swap', 'sway', 'swear', 'sweat', 'sweaty', 'sweden', 'sweeney', 'sweet', 'sweetest', 'sweetheart', 'sweetie', 'sweets', 'sweetwhirl', 'sweety', 'swift', 'swim', 'swimming', 'swine', 'swing', 'switch', 'switched', 'swollen', 'sydney', 'system', 'sytycd', 'ta', 'tab', 'table', 'taco', 'tacos', 'tad', 'tag', 'take', 'taken', 'takes', 'takin', 'taking', 'talent', 'talented', 'talk', 'talked', 'talkin', 'talking', 'talks', 'tall', 'tampa', 'tan', 'tank', 'tap', 'tape', 'target', 'taste', 'tastes', 'tasty', 'tat', 'tattoo', 'taught', 'tax', 'taylor', 'tbh', 'tc', 'tcot', 'te', 'tea', 'teach', 'teacher', 'teaching', 'team', 'tear', 'tears', 'tease', 'teasing', 'tech', 'technically', 'technology', 'ted', 'teddy', 'tee', 'teen', 'teeth', 'teh', 'tell', 'telling', 'tells', 'temple', 'tempted', 'tempting', 'ten', 'tend', 'tennis', 'tent', 'term', 'terminator', 'terms', 'terrible', 'terribly', 'test', 'testing', 'tests', 'tetris', 'texas', 'text', 'texted', 'texting', 'texts', 'tgif', 'th', 'tha', 'thai', 'thank', 'thankful', 'thankfully', 'thanks', 'thankyou', 'thanx', 'thats', 'theater', 'theatre', 'thee', 'theme', 'theory', 'therapy', 'therefore', 'theres', 'theyre', 'thick', 'thin', 'thing', 'things', 'thingy', 'think', 'thinkin', 'thinking', 'thinks', 'third', 'thnks', 'thnx', 'tho', 'thomas', 'thou', 'though', 'thought', 'thoughts', 'thousand', 'thread', 'three', 'threw', 'thrilled', 'throat', 'throw', 'throwing', 'thru', 'tht', 'thts', 'thumbs', 'thunder', 'thurs', 'thursday', 'thus', 'thx', 'ti', 'ticket', 'tickets', 'tie', 'tied', 'tiger', 'tight', 'til', 'till', 'tim', 'time', 'timeline', 'times', 'timing', 'tiny', 'tinyurl', 'tip', 'tips', 'tired', 'tiring', 'tis', 'title', 'tix', 'tmr', 'tmrw', 'tn', 'toast', 'today', 'toe', 'toes', 'together', 'toilet', 'told', 'tom', 'tommorow', 'tomorow', 'tomorrow', 'tomoz', 'ton', 'tone', 'tonight', 'tonite', 'tons', 'tony', 'took', 'tool', 'tools', 'tooo', 'toooo', 'tooooo', 'tooth', 'top', 'topic', 'topics', 'toronto', 'torture', 'toss', 'tosucceed', 'total', 'totally', 'touch', 'touched', 'tough', 'tour', 'touring', 'towards', 'town', 'toy', 'toys', 'tr', 'track', 'trackle', 'tracks', 'trade', 'traffic', 'tragic', 'trailer', 'train', 'training', 'trains', 'transformers', 'transport', 'trash', 'travel', 'traveling', 'treat', 'treating', 'treats', 'tree', 'trees', 'trek', 'trend', 'trending', 'trial', 'trick', 'tricks', 'tried', 'trip', 'triple', 'trips', 'trouble', 'truck', 'true', 'truly', 'trust', 'truth', 'try', 'tryin', 'trying', 'tryna', 'tsk', 'tt', 'ttyl', 'tu', 'tube', 'tues', 'tuesday', 'tumblr', 'tummy', 'tune', 'tuned', 'tunes', 'turkey', 'turn', 'turned', 'turning', 'turnoffwords', 'turns', 'tv', 'tweeple', 'tweeps', 'tweet', 'tweetdeck', 'tweeted', 'tweeter', 'tweeteradder', 'tweeterfollow', 'tweeters', 'tweetie', 'tweeting', 'tweets', 'tweetup', 'twenty', 'twice', 'twilight', 'twin', 'twit', 'twitpic', 'twits', 'twitt', 'twitter', 'twitterberry', 'twittering', 'twitters', 'twitterverse', 'two', 'twurl', 'tx', 'txt', 'ty', 'type', 'typical', 'typing', 'uber', 'ubertwitter', 'ubuntu', 'ugh', 'ughh', 'ughhh', 'ugly', 'uh', 'uhh', 'uhm', 'ui', 'uk', 'ultimate', 'um', 'umbrella', 'umm', 'ummm', 'un', 'unable', 'unavailable', 'uncle', 'understand', 'understanding', 'understood', 'unfair', 'unfollow', 'unfollowed', 'unfortunate', 'unfortunately', 'uni', 'unique', 'united', 'universe', 'university', 'unknown', 'unless', 'unlike', 'unlimited', 'unlucky', 'upcoming', 'update', 'updated', 'updates', 'updating', 'upgrade', 'upload', 'uploaded', 'uploading', 'upon', 'ups', 'upset', 'upsetting', 'ur', 'ure', 'urgh', 'url', 'urs', 'urself', 'us', 'usa', 'usb', 'use', 'used', 'useful', 'useless', 'user', 'username', 'users', 'uses', 'using', 'ustre', 'usual', 'usually', 'ut', 'va', 'vacation', 'vacay', 'valley', 'value', 'vampire', 'van', 'vancouver', 'vanilla', 'vegan', 'vegas', 'venue', 'version', 'versions', 'vet', 'via', 'vibes', 'vid', 'video', 'videos', 'vids', 'view', 'views', 'vintage', 'vip', 'virgin', 'virtual', 'virus', 'visit', 'visited', 'visiting', 'vista', 'vodka', 'voice', 'vote', 'voted', 'votes', 'voting', 'vs', 'wa', 'wack', 'wah', 'wait', 'waited', 'waitin', 'waiting', 'wake', 'wakes', 'waking', 'walk', 'walked', 'walking', 'wall', 'wallet', 'walls', 'walmart', 'wana', 'wanna', 'want', 'wanted', 'wanting', 'wants', 'war', 'ward', 'warm', 'warning', 'warped', 'wars', 'wash', 'washed', 'washing', 'washington', 'wasnt', 'wassup', 'waste', 'wasted', 'wat', 'watch', 'watched', 'watchin', 'watching', 'water', 'wats', 'wave', 'waves', 'waving', 'way', 'ways', 'weak', 'wear', 'wearing', 'weather', 'web', 'webcam', 'website', 'websites', 'wed', 'wedding', 'wednesday', 'wee', 'week', 'weekend', 'weekends', 'weeks', 'weight', 'weird', 'welcome', 'well', 'welll', 'wen', 'wendy', 'went', 'west', 'wet', 'whale', 'whatever', 'whats', 'whatsmysection', 'whenever', 'wherever', 'whether', 'whilst', 'whining', 'white', 'whoa', 'whoever', 'whole', 'whoop', 'whore', 'whose', 'wht', 'whyitweet', 'wi', 'wicked', 'wid', 'wide', 'wierd', 'wife', 'wifey', 'wifi', 'wii', 'wild', 'william', 'willing', 'willow', 'wimbledon', 'win', 'wind', 'window', 'windows', 'windy', 'wine', 'wings', 'wink', 'winner', 'winning', 'wins', 'winter', 'wire', 'wireless', 'wisdom', 'wise', 'wish', 'wished', 'wishes', 'wishing', 'wit', 'within', 'without', 'witty', 'wk', 'wkend', 'wknd', 'wks', 'woah', 'woke', 'wolf', 'wolverine', 'woman', 'women', 'wonder', 'wondered', 'wonderful', 'wondering', 'wonders', 'wont', 'woo', 'wood', 'woods', 'woohoo', 'wooo', 'woop', 'woot', 'word', 'wordpress', 'words', 'wordsaftersex', 'wore', 'work', 'worked', 'worker', 'workin', 'working', 'workout', 'works', 'world', 'worn', 'worried', 'worries', 'worry', 'worse', 'worst', 'worth', 'wot', 'would', 'wouldnt', 'wow', 'wrap', 'write', 'writer', 'writers', 'writing', 'written', 'wrk', 'wrong', 'wrote', 'wtf', 'wud', 'wut', 'www', 'xbox', 'xboxe', 'xd', 'xmas', 'xo', 'xotashhh', 'xox', 'xoxo', 'xoxox', 'xp', 'xx', 'xxx', 'xxxx', 'xxxxx', 'ya', 'yaa', 'yaaay', 'yaay', 'yah', 'yahoo', 'yall', 'yard', 'yawn', 'yawns', 'yay', 'yayy', 'yayyy', 'ye', 'yea', 'yeah', 'yeahh', 'yeahhh', 'year', 'years', 'yeh', 'yellow', 'yep', 'yer', 'yes', 'yess', 'yesss', 'yessss', 'yesterday', 'yet', 'yey', 'yfrog', 'yikes', 'yo', 'yoga', 'yogurt', 'york', 'youll', 'young', 'younger', 'youre', 'yous', 'youth', 'youtube', 'youu', 'youuu', 'youuuu', 'yr', 'yrs', 'yt', 'yu', 'yuck', 'yucky', 'yum', 'yummy', 'yup', 'yur', 'yw', 'zac', 'zealand', 'zero', 'zombie', 'zone', 'zoo']\n"
     ]
    }
   ],
   "source": [
    "print(vocab)"
   ]
  },
  {
   "cell_type": "markdown",
   "metadata": {},
   "source": [
    "### Classify af with the Random Forest\n",
    "At this point, we have numeric training features from the Bag of Words and the original sentiment labels for each feature vector so let's do some supervised learning!"
   ]
  },
  {
   "cell_type": "code",
   "execution_count": 21,
   "metadata": {},
   "outputs": [
    {
     "name": "stderr",
     "output_type": "stream",
     "text": [
      "/home/pilot/anaconda3/lib/python3.6/site-packages/sklearn/ensemble/weight_boosting.py:29: DeprecationWarning: numpy.core.umath_tests is an internal NumPy module and should not be imported. It will be removed in a future NumPy release.\n",
      "  from numpy.core.umath_tests import inner1d\n"
     ]
    }
   ],
   "source": [
    "from sklearn.ensemble import RandomForestClassifier"
   ]
  },
  {
   "cell_type": "code",
   "execution_count": 22,
   "metadata": {
    "collapsed": true
   },
   "outputs": [],
   "source": [
    "# Initialize a Random Forest classifier with 100 trees\n",
    "forest = RandomForestClassifier(n_estimators = 100)"
   ]
  },
  {
   "cell_type": "code",
   "execution_count": 23,
   "metadata": {},
   "outputs": [
    {
     "name": "stdout",
     "output_type": "stream",
     "text": [
      "Classifier is trained\n"
     ]
    }
   ],
   "source": [
    "# Fit the forest to the training set, using the bag of words as \n",
    "# features and the sentiment labels as the response variable\n",
    "forest = forest.fit(train_data_features, train[\"Sentiment\"])\n",
    "print(\"Classifier is trained\")"
   ]
  },
  {
   "cell_type": "markdown",
   "metadata": {},
   "source": [
    "### Run the trained Random Forest Classifier on the test set (create a submission file) and predict sentiments on some test-cases (for fun) "
   ]
  },
  {
   "cell_type": "code",
   "execution_count": 24,
   "metadata": {
    "collapsed": true
   },
   "outputs": [],
   "source": [
    "test = pd.read_csv(\"test.csv\",header=0,delimiter=\",\",encoding='latin-1')"
   ]
  },
  {
   "cell_type": "code",
   "execution_count": 25,
   "metadata": {},
   "outputs": [
    {
     "data": {
      "text/plain": [
       "(299989, 2)"
      ]
     },
     "execution_count": 25,
     "metadata": {},
     "output_type": "execute_result"
    }
   ],
   "source": [
    "test.shape"
   ]
  },
  {
   "cell_type": "code",
   "execution_count": 26,
   "metadata": {},
   "outputs": [
    {
     "data": {
      "text/plain": [
       "array(['ItemID', 'SentimentText'], dtype=object)"
      ]
     },
     "execution_count": 26,
     "metadata": {},
     "output_type": "execute_result"
    }
   ],
   "source": [
    "test.columns.values"
   ]
  },
  {
   "cell_type": "code",
   "execution_count": 27,
   "metadata": {
    "collapsed": true
   },
   "outputs": [],
   "source": [
    "num_twitts = len(test[\"SentimentText\"])\n",
    "clean_test_twitts = []"
   ]
  },
  {
   "cell_type": "code",
   "execution_count": 29,
   "metadata": {},
   "outputs": [
    {
     "name": "stdout",
     "output_type": "stream",
     "text": [
      "Review 30000 of 299989\n",
      "\n",
      "Review 60000 of 299989\n",
      "\n",
      "Review 90000 of 299989\n",
      "\n",
      "Review 120000 of 299989\n",
      "\n",
      "Review 150000 of 299989\n",
      "\n",
      "Review 180000 of 299989\n",
      "\n",
      "Review 210000 of 299989\n",
      "\n",
      "Review 240000 of 299989\n",
      "\n",
      "Review 270000 of 299989\n",
      "\n"
     ]
    }
   ],
   "source": [
    "for i in range(0,num_twitts):\n",
    "    if((i+1) % 30000 == 0):\n",
    "        print(\"Review {} of {}\\n\".format(i+1, num_twitts))\n",
    "    clean_twitt = twitts_to_words(test[\"SentimentText\"][i] )\n",
    "    clean_test_twitts.append(clean_twitt)"
   ]
  },
  {
   "cell_type": "code",
   "execution_count": 30,
   "metadata": {
    "collapsed": true
   },
   "outputs": [],
   "source": [
    "# Get a bag of words for the test set\n",
    "test_data_features = vectorizer.transform(clean_test_twitts)"
   ]
  },
  {
   "cell_type": "code",
   "execution_count": 31,
   "metadata": {
    "collapsed": true
   },
   "outputs": [],
   "source": [
    "# convert to a numpy array is heavy for the hardware\n",
    "# test_data_features = test_data_features.toarray()"
   ]
  },
  {
   "cell_type": "code",
   "execution_count": 32,
   "metadata": {},
   "outputs": [
    {
     "data": {
      "text/plain": [
       "(299989, 5000)"
      ]
     },
     "execution_count": 32,
     "metadata": {},
     "output_type": "execute_result"
    }
   ],
   "source": [
    "test_data_features.shape"
   ]
  },
  {
   "cell_type": "code",
   "execution_count": 33,
   "metadata": {
    "collapsed": true
   },
   "outputs": [],
   "source": [
    "# Use the random forest to make sentiment label predictions\n",
    "result = forest.predict(test_data_features)"
   ]
  },
  {
   "cell_type": "code",
   "execution_count": 34,
   "metadata": {
    "collapsed": true
   },
   "outputs": [],
   "source": [
    "# Copy the results to a pandas dataframe with an \"id\" column and\n",
    "# a \"sentiment\" column\n",
    "output = pd.DataFrame(data={\"id\":test[\"ItemID\"], \"sentiment\":result})"
   ]
  },
  {
   "cell_type": "code",
   "execution_count": 43,
   "metadata": {},
   "outputs": [
    {
     "data": {
      "text/plain": [
       "(299989, 2)"
      ]
     },
     "execution_count": 43,
     "metadata": {},
     "output_type": "execute_result"
    }
   ],
   "source": [
    "output.shape"
   ]
  },
  {
   "cell_type": "code",
   "execution_count": 44,
   "metadata": {
    "collapsed": true
   },
   "outputs": [],
   "source": [
    "# Use pandas to write the comma-separated output file\n",
    "output.to_csv(\"Bag_of_Words_model-Random Forest.csv\", index=False, quoting=3)"
   ]
  },
  {
   "cell_type": "code",
   "execution_count": 63,
   "metadata": {},
   "outputs": [
    {
     "name": "stdout",
     "output_type": "stream",
     "text": [
      "[1]\n"
     ]
    }
   ],
   "source": [
    "# Prediction on an input string\n",
    "input_string = \"Ohhh, hell, yeah, I like ice-cream\"\n",
    "print(forest.predict(vectorizer.transform([twitts_to_words(input_string)])))"
   ]
  },
  {
   "cell_type": "markdown",
   "metadata": {
    "collapsed": true
   },
   "source": [
    "### Classifier is implemented and works - TODO how to find out correctness "
   ]
  },
  {
   "cell_type": "code",
   "execution_count": null,
   "metadata": {
    "collapsed": true
   },
   "outputs": [],
   "source": []
  }
 ],
 "metadata": {
  "kernelspec": {
   "display_name": "Python 3",
   "language": "python",
   "name": "python3"
  },
  "language_info": {
   "codemirror_mode": {
    "name": "ipython",
    "version": 3
   },
   "file_extension": ".py",
   "mimetype": "text/x-python",
   "name": "python",
   "nbconvert_exporter": "python",
   "pygments_lexer": "ipython3",
   "version": "3.6.8"
  }
 },
 "nbformat": 4,
 "nbformat_minor": 2
}
