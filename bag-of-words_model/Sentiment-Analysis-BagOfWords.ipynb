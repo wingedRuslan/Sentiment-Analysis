{
 "cells": [
  {
   "cell_type": "markdown",
   "metadata": {},
   "source": [
    "## Kaggle Challenge - Twitter Sentiment Analysis - Bag-Of-Words Model"
   ]
  },
  {
   "cell_type": "markdown",
   "metadata": {},
   "source": [
    "### Read the data"
   ]
  },
  {
   "cell_type": "code",
   "execution_count": 1,
   "metadata": {
    "collapsed": true
   },
   "outputs": [],
   "source": [
    "import pandas as pd\n",
    "data = pd.read_csv(\"../dataset/train.csv\", header=0, delimiter=\",\", encoding='latin-1')"
   ]
  },
  {
   "cell_type": "code",
   "execution_count": 2,
   "metadata": {},
   "outputs": [
    {
     "data": {
      "text/plain": [
       "['ItemID', 'Sentiment', 'SentimentText']"
      ]
     },
     "execution_count": 2,
     "metadata": {},
     "output_type": "execute_result"
    }
   ],
   "source": [
    "list(data.columns.values)"
   ]
  },
  {
   "cell_type": "code",
   "execution_count": 3,
   "metadata": {},
   "outputs": [
    {
     "data": {
      "text/html": [
       "<div>\n",
       "<style>\n",
       "    .dataframe thead tr:only-child th {\n",
       "        text-align: right;\n",
       "    }\n",
       "\n",
       "    .dataframe thead th {\n",
       "        text-align: left;\n",
       "    }\n",
       "\n",
       "    .dataframe tbody tr th {\n",
       "        vertical-align: top;\n",
       "    }\n",
       "</style>\n",
       "<table border=\"1\" class=\"dataframe\">\n",
       "  <thead>\n",
       "    <tr style=\"text-align: right;\">\n",
       "      <th></th>\n",
       "      <th>ItemID</th>\n",
       "      <th>Sentiment</th>\n",
       "      <th>SentimentText</th>\n",
       "    </tr>\n",
       "  </thead>\n",
       "  <tbody>\n",
       "    <tr>\n",
       "      <th>0</th>\n",
       "      <td>1</td>\n",
       "      <td>0</td>\n",
       "      <td>is so sad for my APL frie...</td>\n",
       "    </tr>\n",
       "    <tr>\n",
       "      <th>1</th>\n",
       "      <td>2</td>\n",
       "      <td>0</td>\n",
       "      <td>I missed the New Moon trail...</td>\n",
       "    </tr>\n",
       "    <tr>\n",
       "      <th>2</th>\n",
       "      <td>3</td>\n",
       "      <td>1</td>\n",
       "      <td>omg its already 7:30 :O</td>\n",
       "    </tr>\n",
       "    <tr>\n",
       "      <th>3</th>\n",
       "      <td>4</td>\n",
       "      <td>0</td>\n",
       "      <td>.. Omgaga. Im sooo  im gunna CRy. I'...</td>\n",
       "    </tr>\n",
       "    <tr>\n",
       "      <th>4</th>\n",
       "      <td>5</td>\n",
       "      <td>0</td>\n",
       "      <td>i think mi bf is cheating on me!!!   ...</td>\n",
       "    </tr>\n",
       "  </tbody>\n",
       "</table>\n",
       "</div>"
      ],
      "text/plain": [
       "   ItemID  Sentiment                                      SentimentText\n",
       "0       1          0                       is so sad for my APL frie...\n",
       "1       2          0                     I missed the New Moon trail...\n",
       "2       3          1                            omg its already 7:30 :O\n",
       "3       4          0            .. Omgaga. Im sooo  im gunna CRy. I'...\n",
       "4       5          0           i think mi bf is cheating on me!!!   ..."
      ]
     },
     "execution_count": 3,
     "metadata": {},
     "output_type": "execute_result"
    }
   ],
   "source": [
    "data.head(5)"
   ]
  },
  {
   "cell_type": "code",
   "execution_count": 4,
   "metadata": {},
   "outputs": [
    {
     "data": {
      "text/plain": [
       "(99989, 3)"
      ]
     },
     "execution_count": 4,
     "metadata": {},
     "output_type": "execute_result"
    }
   ],
   "source": [
    "data.shape"
   ]
  },
  {
   "cell_type": "markdown",
   "metadata": {},
   "source": [
    "### Clean data"
   ]
  },
  {
   "cell_type": "code",
   "execution_count": 5,
   "metadata": {
    "collapsed": true
   },
   "outputs": [],
   "source": [
    "from cleanData import twitts_to_words"
   ]
  },
  {
   "cell_type": "code",
   "execution_count": 6,
   "metadata": {
    "collapsed": true
   },
   "outputs": [],
   "source": [
    "data.SentimentText = data.SentimentText.apply(lambda x: twitts_to_words(x))"
   ]
  },
  {
   "cell_type": "markdown",
   "metadata": {},
   "source": [
    "### Split the data into train - test data"
   ]
  },
  {
   "cell_type": "code",
   "execution_count": 7,
   "metadata": {
    "collapsed": true
   },
   "outputs": [],
   "source": [
    "from sklearn.model_selection import train_test_split\n",
    "train, test = train_test_split(data, test_size=0.2, random_state=42)"
   ]
  },
  {
   "cell_type": "code",
   "execution_count": 8,
   "metadata": {},
   "outputs": [
    {
     "data": {
      "text/plain": [
       "(79991, 3)"
      ]
     },
     "execution_count": 8,
     "metadata": {},
     "output_type": "execute_result"
    }
   ],
   "source": [
    "train.shape"
   ]
  },
  {
   "cell_type": "code",
   "execution_count": 9,
   "metadata": {},
   "outputs": [
    {
     "data": {
      "text/plain": [
       "(19998, 3)"
      ]
     },
     "execution_count": 9,
     "metadata": {},
     "output_type": "execute_result"
    }
   ],
   "source": [
    "test.shape"
   ]
  },
  {
   "cell_type": "code",
   "execution_count": 10,
   "metadata": {},
   "outputs": [
    {
     "data": {
      "text/html": [
       "<div>\n",
       "<style>\n",
       "    .dataframe thead tr:only-child th {\n",
       "        text-align: right;\n",
       "    }\n",
       "\n",
       "    .dataframe thead th {\n",
       "        text-align: left;\n",
       "    }\n",
       "\n",
       "    .dataframe tbody tr th {\n",
       "        vertical-align: top;\n",
       "    }\n",
       "</style>\n",
       "<table border=\"1\" class=\"dataframe\">\n",
       "  <thead>\n",
       "    <tr style=\"text-align: right;\">\n",
       "      <th></th>\n",
       "      <th>ItemID</th>\n",
       "      <th>Sentiment</th>\n",
       "      <th>SentimentText</th>\n",
       "    </tr>\n",
       "  </thead>\n",
       "  <tbody>\n",
       "    <tr>\n",
       "      <th>58519</th>\n",
       "      <td>58531</td>\n",
       "      <td>1</td>\n",
       "      <td>sleep suggest watching girlfriend experience</td>\n",
       "    </tr>\n",
       "    <tr>\n",
       "      <th>38238</th>\n",
       "      <td>38250</td>\n",
       "      <td>1</td>\n",
       "      <td>also school haha reminding case forgot</td>\n",
       "    </tr>\n",
       "    <tr>\n",
       "      <th>3806</th>\n",
       "      <td>3807</td>\n",
       "      <td>1</td>\n",
       "      <td>love country music</td>\n",
       "    </tr>\n",
       "    <tr>\n",
       "      <th>27925</th>\n",
       "      <td>27937</td>\n",
       "      <td>1</td>\n",
       "      <td>gmornin little madeleine cake gotta love chame...</td>\n",
       "    </tr>\n",
       "    <tr>\n",
       "      <th>6006</th>\n",
       "      <td>6009</td>\n",
       "      <td>0</td>\n",
       "      <td>cheapspeakers everybody rancho dancing infecti...</td>\n",
       "    </tr>\n",
       "  </tbody>\n",
       "</table>\n",
       "</div>"
      ],
      "text/plain": [
       "       ItemID  Sentiment                                      SentimentText\n",
       "58519   58531          1       sleep suggest watching girlfriend experience\n",
       "38238   38250          1             also school haha reminding case forgot\n",
       "3806     3807          1                                 love country music\n",
       "27925   27937          1  gmornin little madeleine cake gotta love chame...\n",
       "6006     6009          0  cheapspeakers everybody rancho dancing infecti..."
      ]
     },
     "execution_count": 10,
     "metadata": {},
     "output_type": "execute_result"
    }
   ],
   "source": [
    "train.head()"
   ]
  },
  {
   "cell_type": "code",
   "execution_count": 11,
   "metadata": {},
   "outputs": [
    {
     "data": {
      "text/html": [
       "<div>\n",
       "<style>\n",
       "    .dataframe thead tr:only-child th {\n",
       "        text-align: right;\n",
       "    }\n",
       "\n",
       "    .dataframe thead th {\n",
       "        text-align: left;\n",
       "    }\n",
       "\n",
       "    .dataframe tbody tr th {\n",
       "        vertical-align: top;\n",
       "    }\n",
       "</style>\n",
       "<table border=\"1\" class=\"dataframe\">\n",
       "  <thead>\n",
       "    <tr style=\"text-align: right;\">\n",
       "      <th></th>\n",
       "      <th>ItemID</th>\n",
       "      <th>Sentiment</th>\n",
       "      <th>SentimentText</th>\n",
       "    </tr>\n",
       "  </thead>\n",
       "  <tbody>\n",
       "    <tr>\n",
       "      <th>33965</th>\n",
       "      <td>33977</td>\n",
       "      <td>1</td>\n",
       "      <td>wheeee</td>\n",
       "    </tr>\n",
       "    <tr>\n",
       "      <th>22853</th>\n",
       "      <td>22865</td>\n",
       "      <td>1</td>\n",
       "      <td>thank good meet</td>\n",
       "    </tr>\n",
       "    <tr>\n",
       "      <th>19448</th>\n",
       "      <td>19460</td>\n",
       "      <td>0</td>\n",
       "      <td>electricbath eewwww gross sorry hayward hate like</td>\n",
       "    </tr>\n",
       "    <tr>\n",
       "      <th>9732</th>\n",
       "      <td>9744</td>\n",
       "      <td>1</td>\n",
       "      <td>followfriday little late special shoutout missus</td>\n",
       "    </tr>\n",
       "    <tr>\n",
       "      <th>7129</th>\n",
       "      <td>7132</td>\n",
       "      <td>1</td>\n",
       "      <td>icanhelp shopping deal personal assistant even...</td>\n",
       "    </tr>\n",
       "  </tbody>\n",
       "</table>\n",
       "</div>"
      ],
      "text/plain": [
       "       ItemID  Sentiment                                      SentimentText\n",
       "33965   33977          1                                             wheeee\n",
       "22853   22865          1                                    thank good meet\n",
       "19448   19460          0  electricbath eewwww gross sorry hayward hate like\n",
       "9732     9744          1   followfriday little late special shoutout missus\n",
       "7129     7132          1  icanhelp shopping deal personal assistant even..."
      ]
     },
     "execution_count": 11,
     "metadata": {},
     "output_type": "execute_result"
    }
   ],
   "source": [
    "test.head()"
   ]
  },
  {
   "cell_type": "markdown",
   "metadata": {},
   "source": [
    "### Creating Features from a Bag of Words (Using scikit-learn)\n",
    "- convert data training tweets to some kind of numeric representation for machine learning\n",
    "\n",
    "- Bag-of-Words Approach\n",
    "The Bag of Words model learns a vocabulary from all of the documents, then models each document by counting the number of times each word appears. \n",
    "Vocabulary will be to big based on all tweets, so to limit the size of the feature vectors, we should choose some maximum vocabulary size - 5000 most frequent words\n",
    "- feature_extraction module from scikit-learn to create bag-of-words features.  \n",
    "sklearn.CountVectorizer - Convert a collection of raw documents to a matrix features."
   ]
  },
  {
   "cell_type": "code",
   "execution_count": 12,
   "metadata": {
    "collapsed": true
   },
   "outputs": [],
   "source": [
    "from sklearn.feature_extraction.text import CountVectorizer"
   ]
  },
  {
   "cell_type": "code",
   "execution_count": 13,
   "metadata": {
    "collapsed": true
   },
   "outputs": [],
   "source": [
    "# The input to fit_transform should be a list of strings\n",
    "train_tweets = train[\"SentimentText\"].tolist()"
   ]
  },
  {
   "cell_type": "code",
   "execution_count": 14,
   "metadata": {
    "collapsed": true
   },
   "outputs": [],
   "source": [
    "# using filter() to perform removal of empty strings TODO - if remove empty-remove the corresponding sentiment\n",
    "# train_tweets = list(filter(None, train_tweets))"
   ]
  },
  {
   "cell_type": "code",
   "execution_count": 15,
   "metadata": {},
   "outputs": [
    {
     "data": {
      "text/plain": [
       "79991"
      ]
     },
     "execution_count": 15,
     "metadata": {},
     "output_type": "execute_result"
    }
   ],
   "source": [
    "len(train_tweets)"
   ]
  },
  {
   "cell_type": "code",
   "execution_count": 16,
   "metadata": {
    "collapsed": true
   },
   "outputs": [],
   "source": [
    "# Initialize the \"CountVectorizer\" object, which is scikit-learn's\n",
    "# bag of words tool. \n",
    "vectorizer = CountVectorizer(analyzer = \"word\",   \\\n",
    "                             tokenizer = None,    \\\n",
    "                             preprocessor = None, \\\n",
    "                             stop_words = None,   \\\n",
    "                             max_features = 5000)"
   ]
  },
  {
   "cell_type": "code",
   "execution_count": 17,
   "metadata": {
    "collapsed": true
   },
   "outputs": [],
   "source": [
    "# 1) fit the model and learn the vocabulary; \n",
    "# 2) transforms our training data into feature vectors.\n",
    "train_data_features = vectorizer.fit_transform(train_tweets)"
   ]
  },
  {
   "cell_type": "code",
   "execution_count": 18,
   "metadata": {},
   "outputs": [
    {
     "data": {
      "text/plain": [
       "<79991x5000 sparse matrix of type '<class 'numpy.int64'>'\n",
       "\twith 418848 stored elements in Compressed Sparse Row format>"
      ]
     },
     "execution_count": 18,
     "metadata": {},
     "output_type": "execute_result"
    }
   ],
   "source": [
    "train_data_features"
   ]
  },
  {
   "cell_type": "code",
   "execution_count": 19,
   "metadata": {},
   "outputs": [
    {
     "data": {
      "text/plain": [
       "(79991, 5000)"
      ]
     },
     "execution_count": 19,
     "metadata": {},
     "output_type": "execute_result"
    }
   ],
   "source": [
    "train_data_features.shape"
   ]
  },
  {
   "cell_type": "code",
   "execution_count": 20,
   "metadata": {},
   "outputs": [],
   "source": [
    "#train_data_features.toarray()"
   ]
  },
  {
   "cell_type": "markdown",
   "metadata": {},
   "source": [
    "Bag of Words model is trained, let's look at the vocabulary"
   ]
  },
  {
   "cell_type": "code",
   "execution_count": 21,
   "metadata": {
    "collapsed": true
   },
   "outputs": [],
   "source": [
    "vocab = vectorizer.get_feature_names()"
   ]
  },
  {
   "cell_type": "code",
   "execution_count": 22,
   "metadata": {},
   "outputs": [
    {
     "name": "stdout",
     "output_type": "stream",
     "text": [
      "['aaah', 'aah', 'aaron', 'aawww', 'ab', 'abandoned', 'abby', 'abc', 'ability', 'abit', 'able', 'abroad', 'absence', 'absolute', 'absolutely', 'abt', 'abuse', 'accent', 'accept', 'accepted', 'access', 'accident', 'accidentally', 'according', 'account', 'acct', 'ace', 'ache', 'ack', 'acoustic', 'across', 'act', 'acting', 'action', 'active', 'actor', 'actress', 'actual', 'actually', 'ad', 'ada', 'adam', 'add', 'added', 'addict', 'addicted', 'addicting', 'addiction', 'addictive', 'adding', 'address', 'adjust', 'admire', 'admit', 'adobe', 'adorable', 'adore', 'adult', 'advance', 'advantage', 'adventure', 'advert', 'advertising', 'advice', 'affair', 'affect', 'affiliate', 'afford', 'afraid', 'africa', 'african', 'afternoon', 'afterwards', 'age', 'agency', 'agenda', 'agent', 'ago', 'agree', 'agreed', 'agrees', 'aha', 'ahah', 'ahaha', 'ahahaha', 'ahead', 'ahh', 'ahhh', 'ahhhh', 'ahhhhh', 'aid', 'aight', 'aim', 'aint', 'air', 'airplane', 'airport', 'aja', 'aka', 'ako', 'aku', 'ala', 'alan', 'alarm', 'album', 'alcohol', 'ale', 'alert', 'alex', 'alexis', 'ali', 'alice', 'alien', 'alike', 'alive', 'allen', 'allergic', 'allergy', 'alley', 'allison', 'alll', 'allow', 'allowed', 'alltimelow', 'ally', 'almost', 'alone', 'along', 'alot', 'already', 'alright', 'alrighty', 'also', 'alternative', 'altho', 'although', 'always', 'alyssa', 'amanda', 'amandapalmer', 'amazed', 'amazing', 'amazingly', 'amazon', 'amber', 'amen', 'america', 'american', 'amount', 'amsterdam', 'amusing', 'amy', 'ana', 'andrea', 'andrew', 'android', 'andy', 'andyclemmensen', 'andyhurleyday', 'ang', 'angel', 'angela', 'angeles', 'angie', 'angle', 'angry', 'ani', 'animal', 'anime', 'ankle', 'ann', 'anna', 'anne', 'annie', 'anniversary', 'announce', 'announced', 'announcement', 'annoyed', 'annoying', 'anoop', 'another', 'answer', 'answered', 'answering', 'ant', 'anthony', 'anti', 'antonio', 'anxiety', 'anxious', 'anybody', 'anyhow', 'anymore', 'anyone', 'anything', 'anytime', 'anyway', 'anyways', 'anywhere', 'apart', 'apartment', 'apologize', 'apology', 'app', 'apparently', 'appear', 'appearance', 'appears', 'apple', 'application', 'applied', 'apply', 'appointment', 'appreciate', 'appreciated', 'appreciation', 'apprentice', 'approach', 'appropriate', 'approval', 'approve', 'approved', 'apps', 'appt', 'april', 'apt', 'archie', 'archuleta', 'area', 'arent', 'argentina', 'argh', 'argument', 'ari', 'arizona', 'arm', 'army', 'around', 'arrested', 'arrive', 'arrived', 'arrives', 'arrow', 'arse', 'art', 'arthur', 'article', 'artist', 'artwork', 'as', 'asap', 'ash', 'ashamed', 'ashley', 'ashton', 'asia', 'asian', 'ask', 'asked', 'asking', 'asleep', 'asot', 'asshole', 'assignment', 'assistant', 'assume', 'assuming', 'aswell', 'asylm', 'ate', 'atheist', 'atl', 'atlanta', 'atleast', 'atm', 'attached', 'attack', 'attacked', 'attempt', 'attempting', 'attend', 'attention', 'attitude', 'au', 'aubrey', 'auch', 'auction', 'audience', 'audio', 'audition', 'aug', 'august', 'aunt', 'aussie', 'austin', 'australia', 'australian', 'austria', 'author', 'auto', 'autograph', 'available', 'avatar', 'average', 'avoid', 'awaiting', 'awake', 'award', 'aware', 'away', 'awe', 'awesome', 'awesomeness', 'awful', 'awh', 'awhile', 'awkward', 'awsome', 'aww', 'awww', 'awwww', 'awwwww', 'awwwwww', 'aye', 'azz', 'babe', 'baby', 'babysit', 'babysitting', 'back', 'backed', 'background', 'backing', 'backup', 'backwards', 'bacon', 'bad', 'badass', 'badge', 'badger', 'badly', 'bag', 'bagel', 'bah', 'bahaha', 'bahahaha', 'bake', 'baked', 'baker', 'baking', 'balance', 'bald', 'ball', 'ballet', 'balloon', 'baltimore', 'ban', 'banana', 'band', 'bang', 'bank', 'banned', 'banner', 'bar', 'barbara', 'barely', 'barry', 'base', 'baseball', 'based', 'basement', 'basic', 'basically', 'basis', 'basket', 'basketball', 'bass', 'bastard', 'bat', 'batch', 'bath', 'bathroom', 'batman', 'battery', 'battle', 'bay', 'bbc', 'bbm', 'bbq', 'bby', 'bck', 'bcuz', 'bday', 'bea', 'beach', 'bean', 'bear', 'beard', 'beast', 'beat', 'beaten', 'beating', 'beatles', 'beautiful', 'beauty', 'bebo', 'became', 'becky', 'become', 'becomes', 'becoming', 'becuz', 'bed', 'bedroom', 'bedtime', 'bee', 'beef', 'beer', 'beg', 'begin', 'beginning', 'behind', 'beijing', 'bein', 'belated', 'belief', 'believe', 'belive', 'bell', 'bella', 'belly', 'belong', 'belt', 'ben', 'bend', 'benefit', 'berlin', 'berry', 'beside', 'besides', 'best', 'bestie', 'besties', 'bet', 'beta', 'beth', 'betta', 'better', 'betty', 'beyonce', 'beyond', 'bff', 'bgt', 'bible', 'bicycle', 'bid', 'big', 'bigger', 'biggest', 'bike', 'bikini', 'bill', 'billy', 'bin', 'bing', 'bio', 'biology', 'bird', 'birth', 'birthday', 'biscuit', 'bit', 'bitch', 'bite', 'biting', 'bitter', 'biz', 'bizarre', 'black', 'blackberry', 'blah', 'blair', 'blame', 'blank', 'blanket', 'blast', 'blasting', 'bleeding', 'bleh', 'bless', 'blessed', 'blessing', 'blew', 'blind', 'blink', 'blip', 'bliss', 'block', 'blocked', 'blockhead', 'blocking', 'blog', 'blogger', 'blogging', 'bloke', 'blonde', 'blood', 'bloody', 'blow', 'blown', 'blue', 'blush', 'board', 'boat', 'bob', 'bobby', 'body', 'bold', 'bomb', 'bond', 'bone', 'bonus', 'boo', 'boob', 'boohoo', 'book', 'booked', 'boom', 'booo', 'boooo', 'booooo', 'boot', 'booth', 'booty', 'booze', 'border', 'bore', 'bored', 'boredom', 'boring', 'born', 'borrow', 'bos', 'boston', 'bot', 'bother', 'bothered', 'bottle', 'bottom', 'bought', 'bounce', 'bound', 'bout', 'bow', 'bowl', 'bowling', 'box', 'boy', 'boyfriend', 'boyle', 'bra', 'brace', 'bracelet', 'brad', 'bradie', 'bradiewebb', 'brain', 'brand', 'brandon', 'brandy', 'brat', 'brave', 'brazil', 'brazilian', 'bread', 'break', 'breakdown', 'breakfast', 'breaking', 'breast', 'breath', 'breathe', 'breathing', 'breeze', 'brian', 'bride', 'bridge', 'bright', 'brilliant', 'bring', 'bringing', 'brings', 'brisbane', 'brit', 'britain', 'british', 'britney', 'brittany', 'bro', 'broke', 'broken', 'brooke', 'brooklyn', 'bros', 'brother', 'brought', 'brown', 'brownie', 'browser', 'bruce', 'brunch', 'brush', 'brutal', 'bryan', 'bsb', 'bts', 'btw', 'bubble', 'buck', 'bucket', 'bud', 'buddy', 'budget', 'bueno', 'buenos', 'buffalo', 'bug', 'bugger', 'build', 'building', 'built', 'bull', 'bullet', 'bullshit', 'bum', 'bummed', 'bummer', 'bump', 'bun', 'bunch', 'bunny', 'burger', 'burn', 'burned', 'burning', 'burnt', 'burrito', 'bus', 'bush', 'business', 'bust', 'busted', 'buster', 'busy', 'butt', 'butter', 'butterfly', 'button', 'buy', 'buying', 'buzz', 'bye', 'byee', 'cab', 'cable', 'cafe', 'caffeine', 'cage', 'cake', 'cal', 'calendar', 'cali', 'california', 'call', 'called', 'callin', 'calling', 'calm', 'calorie', 'cam', 'came', 'camera', 'camp', 'campaign', 'camping', 'campus', 'canada', 'canadian', 'canberra', 'cancel', 'canceled', 'cancelled', 'cancer', 'candle', 'candy', 'cannot', 'canon', 'cant', 'cap', 'cape', 'captain', 'car', 'card', 'care', 'career', 'careful', 'caring', 'carl', 'carol', 'carolina', 'caroline', 'carpet', 'carrie', 'carrot', 'carry', 'carrying', 'cartoon', 'case', 'casey', 'cash', 'cast', 'castle', 'cat', 'catch', 'catching', 'category', 'cathy', 'caught', 'cause', 'caused', 'causing', 'cavs', 'cd', 'celeb', 'celebrate', 'celebrated', 'celebrating', 'celebration', 'celebrity', 'celebs', 'cell', 'cellphone', 'cent', 'center', 'central', 'centre', 'century', 'cereal', 'certain', 'certainly', 'cha', 'chad', 'chai', 'chain', 'chair', 'challenge', 'champion', 'championship', 'chance', 'change', 'changed', 'changing', 'channel', 'chapter', 'char', 'character', 'charge', 'charged', 'charger', 'charging', 'charity', 'charitytuesday', 'charles', 'charlie', 'charlotte', 'charmed', 'chase', 'chasing', 'chat', 'chatting', 'cheap', 'cheaper', 'cheat', 'cheating', 'check', 'checked', 'checkin', 'checking', 'cheek', 'cheer', 'cheering', 'cheese', 'cheesecake', 'cheesy', 'chef', 'chelsea', 'chem', 'chemistry', 'cherry', 'chest', 'chester', 'chesterday', 'chi', 'chica', 'chicago', 'chick', 'chicken', 'child', 'childhood', 'chile', 'chili', 'chill', 'chillin', 'chilling', 'chilly', 'chin', 'china', 'chinese', 'chip', 'chocolate', 'choice', 'choose', 'chop', 'chose', 'chris', 'christ', 'christian', 'christina', 'christine', 'christmas', 'chrome', 'chu', 'chuck', 'chuckle', 'chuckmemondays', 'church', 'cider', 'cigarette', 'cindy', 'cinema', 'circle', 'circumstance', 'city', 'claim', 'claire', 'clap', 'class', 'classic', 'classmate', 'clean', 'cleaned', 'cleaner', 'cleaning', 'clear', 'cleared', 'clearly', 'cleveland', 'clever', 'click', 'clicked', 'clicking', 'client', 'climb', 'clip', 'clock', 'close', 'closed', 'closer', 'closest', 'closet', 'closing', 'clothdiapers', 'clothes', 'clothing', 'cloud', 'cloudy', 'clown', 'club', 'clue', 'clumsy', 'cnn', 'cnt', 'co', 'coach', 'coaching', 'coast', 'coat', 'cock', 'cocktail', 'cod', 'code', 'coffee', 'coin', 'coincidence', 'coke', 'cold', 'coldplay', 'colin', 'collect', 'collection', 'college', 'cologne', 'color', 'colorado', 'colour', 'columbus', 'column', 'com', 'combination', 'combo', 'come', 'comeback', 'comedy', 'comfort', 'comfortable', 'comfy', 'comic', 'comin', 'coming', 'comment', 'commentary', 'commercial', 'comming', 'common', 'communication', 'community', 'comp', 'company', 'compare', 'compared', 'comparison', 'competition', 'complain', 'complaining', 'complete', 'completed', 'completely', 'complicated', 'compliment', 'computer', 'con', 'conan', 'concentrate', 'concept', 'concern', 'concerned', 'concert', 'condition', 'condolence', 'cone', 'conf', 'conference', 'confidence', 'confident', 'confirm', 'confirmation', 'confirmed', 'confused', 'confusing', 'congrats', 'congratulation', 'connect', 'connected', 'connecting', 'connection', 'consider', 'considered', 'considering', 'constant', 'constantly', 'construction', 'cont', 'contact', 'content', 'contest', 'continue', 'continues', 'contract', 'contribute', 'control', 'convenient', 'convention', 'conversation', 'converse', 'convince', 'convo', 'cook', 'cooked', 'cookie', 'cooking', 'cooky', 'cool', 'cooler', 'coolest', 'coool', 'cop', 'copy', 'core', 'corn', 'corner', 'correct', 'correction', 'cost', 'costume', 'couch', 'cough', 'coughing', 'could', 'coulda', 'couldnt', 'couldve', 'count', 'counter', 'counting', 'country', 'county', 'couple', 'coupon', 'course', 'coursework', 'court', 'cousin', 'cover', 'coverage', 'covered', 'cow', 'cowboy', 'coz', 'crack', 'cracker', 'craig', 'cramp', 'crank', 'crap', 'crappy', 'crash', 'crashed', 'crashing', 'craving', 'crawl', 'crazy', 'cream', 'create', 'created', 'creative', 'credit', 'creep', 'creepy', 'crew', 'cricket', 'cried', 'crime', 'crisp', 'croissant', 'cross', 'crossed', 'crossing', 'crowd', 'crown', 'cruel', 'cruise', 'crush', 'crushed', 'cry', 'crystal', 'cs', 'csi', 'cu', 'cub', 'cucumber', 'cud', 'cuddle', 'culture', 'cum', 'cup', 'cupcake', 'cure', 'curious', 'curl', 'current', 'currently', 'curry', 'curse', 'curve', 'custom', 'customer', 'cut', 'cute', 'cutest', 'cutie', 'cutting', 'cuz', 'cya', 'cycle', 'cycling', 'cyrus', 'da', 'dad', 'daddy', 'daily', 'daisy', 'dallas', 'dam', 'damage', 'dammit', 'damn', 'damned', 'damnit', 'dan', 'dance', 'danced', 'dancer', 'dancing', 'dang', 'danger', 'dangerous', 'daniel', 'danny', 'dare', 'dark', 'darlin', 'darling', 'darn', 'dat', 'data', 'date', 'dating', 'daughter', 'dave', 'david', 'dawn', 'day', 'dead', 'deadline', 'deal', 'dealing', 'dean', 'dear', 'death', 'debate', 'dec', 'december', 'decent', 'decide', 'decided', 'decision', 'deck', 'dee', 'deep', 'deer', 'def', 'default', 'definately', 'definitely', 'definition', 'defo', 'degree', 'del', 'delay', 'delayed', 'delete', 'deleted', 'deleting', 'delhi', 'delicious', 'delish', 'deliver', 'delivered', 'delivery', 'dell', 'delongeday', 'dem', 'demand', 'demi', 'demo', 'demon', 'den', 'dentist', 'denver', 'depending', 'depends', 'depressed', 'depressing', 'der', 'derek', 'describe', 'description', 'desert', 'deserve', 'deserved', 'deserves', 'design', 'designer', 'desire', 'desk', 'desktop', 'desperate', 'desperately', 'despite', 'dessert', 'destroy', 'detail', 'determined', 'detroit', 'dev', 'developer', 'development', 'device', 'devil', 'dew', 'dexter', 'dia', 'diamond', 'diaper', 'diary', 'dick', 'didnt', 'die', 'died', 'diego', 'diet', 'diff', 'difference', 'different', 'difficult', 'dig', 'digg', 'digging', 'digital', 'dilemma', 'din', 'ding', 'dinner', 'direct', 'direction', 'directly', 'director', 'dirt', 'dirty', 'dis', 'disagree', 'disappear', 'disappeared', 'disappointed', 'disappointing', 'disappointment', 'disc', 'disconnected', 'discount', 'discovered', 'discus', 'discussion', 'disease', 'disgusting', 'dish', 'dislike', 'disney', 'disneyland', 'display', 'dissapointed', 'distance', 'distracted', 'distraction', 'disturbing', 'ditto', 'diva', 'diversity', 'divorce', 'dizzy', 'dm', 'dmb', 'dnt', 'doc', 'doctor', 'document', 'dodger', 'dodgy', 'doesnt', 'dog', 'doggie', 'doggy', 'doh', 'doin', 'doll', 'dollar', 'domain', 'done', 'dong', 'donnie', 'dont', 'dontyouhate', 'donut', 'doo', 'door', 'dope', 'dork', 'dosent', 'dot', 'double', 'doubt', 'dougie', 'download', 'downloaded', 'downloading', 'downloads', 'downside', 'downstairs', 'downtown', 'dozen', 'drag', 'dragon', 'drain', 'drake', 'drama', 'dramatic', 'drank', 'draw', 'drawing', 'dreading', 'dream', 'dreaming', 'dress', 'dressed', 'drew', 'drink', 'drinkin', 'drinking', 'drive', 'driven', 'driver', 'driving', 'drool', 'drop', 'dropped', 'dropping', 'drove', 'drug', 'drum', 'drunk', 'drunken', 'dry', 'dubai', 'dublin', 'duck', 'dude', 'due', 'duh', 'dull', 'dumb', 'dump', 'dun', 'dunno', 'dust', 'dutch', 'duty', 'dvd', 'dvr', 'dwn', 'dy', 'dying', 'eachother', 'eager', 'ear', 'earl', 'earlier', 'early', 'earn', 'earned', 'earring', 'earth', 'earthquake', 'easier', 'easily', 'east', 'easy', 'eat', 'eaten', 'eatin', 'eating', 'eats', 'ebay', 'echelon', 'economy', 'edge', 'edinburgh', 'edit', 'editing', 'edition', 'editor', 'education', 'edward', 'eek', 'eff', 'effect', 'effective', 'effing', 'effort', 'egg', 'ego', 'ehh', 'eight', 'either', 'election', 'electric', 'elephant', 'elevator', 'ellen', 'else', 'email', 'emailed', 'embarrassed', 'embarrassing', 'emergency', 'emily', 'eminem', 'emma', 'emo', 'emotion', 'emotional', 'employee', 'empty', 'encouraging', 'end', 'ended', 'ending', 'energy', 'engagement', 'engine', 'england', 'english', 'enjoy', 'enjoyable', 'enjoyed', 'enjoying', 'enough', 'enter', 'entered', 'entertain', 'entertained', 'entertaining', 'entertainment', 'enthusiasm', 'entire', 'entirely', 'entry', 'enuf', 'envious', 'envy', 'epic', 'episode', 'eps', 'equal', 'equally', 'equipment', 'era', 'eric', 'erm', 'err', 'error', 'escape', 'esp', 'especially', 'essay', 'est', 'estate', 'etc', 'etsy', 'euro', 'europe', 'european', 'eurovision', 'eva', 'even', 'evening', 'event', 'eventually', 'ever', 'everton', 'every', 'everybody', 'everyday', 'everyone', 'everyones', 'everything', 'everythings', 'everytime', 'everywhere', 'evil', 'eww', 'ewww', 'exact', 'exactly', 'exam', 'example', 'excellent', 'except', 'exception', 'exchange', 'excited', 'excitement', 'exciting', 'exclusive', 'excuse', 'exercise', 'exhausted', 'exist', 'exists', 'expect', 'expectation', 'expected', 'expecting', 'expense', 'expensive', 'experience', 'experiment', 'expert', 'explain', 'explains', 'explanation', 'explode', 'explore', 'expo', 'express', 'expression', 'external', 'extra', 'extreme', 'extremely', 'eye', 'eyebrow', 'eyed', 'fab', 'fabric', 'fabulous', 'face', 'facebook', 'fact', 'factor', 'factory', 'fade', 'fail', 'failed', 'failing', 'fails', 'failure', 'fair', 'fairly', 'fairy', 'faith', 'fake', 'fall', 'fallen', 'falling', 'fallon', 'false', 'fam', 'fame', 'familiar', 'family', 'famous', 'fan', 'fancy', 'fantastic', 'fantasy', 'far', 'farewell', 'farm', 'farrah', 'fart', 'fascinating', 'fashion', 'fast', 'faster', 'fat', 'father', 'fatty', 'fault', 'fav', 'fave', 'faves', 'favor', 'favorite', 'favourite', 'favs', 'fawcett', 'fear', 'feature', 'featured', 'fed', 'federer', 'fee', 'feed', 'feedback', 'feeding', 'feel', 'feelin', 'feeling', 'fell', 'fella', 'fellow', 'felt', 'female', 'fest', 'festival', 'fever', 'fic', 'fiction', 'field', 'fight', 'fighter', 'fighting', 'figure', 'figured', 'figuring', 'file', 'fill', 'filled', 'filling', 'film', 'filming', 'filter', 'final', 'finale', 'finally', 'finance', 'find', 'finding', 'fine', 'finger', 'finish', 'finished', 'finishing', 'finland', 'fir', 'fire', 'fired', 'firefox', 'first', 'firstrecord', 'fish', 'fishing', 'fist', 'fit', 'fitting', 'five', 'fix', 'fixed', 'fixing', 'flag', 'flash', 'flat', 'flatley', 'flavor', 'flawless', 'flew', 'flick', 'flickr', 'flight', 'flip', 'floor', 'flop', 'florida', 'flow', 'flower', 'flu', 'fluffy', 'fly', 'flying', 'flylady', 'fml', 'focus', 'folder', 'folk', 'follow', 'followed', 'follower', 'followfriday', 'followin', 'following', 'follows', 'fone', 'font', 'food', 'fool', 'foot', 'footage', 'football', 'footy', 'force', 'forced', 'forecast', 'foreign', 'forest', 'forever', 'forget', 'forgetting', 'forgive', 'forgot', 'forgotten', 'form', 'format', 'fortune', 'forum', 'forward', 'foster', 'found', 'four', 'fox', 'frame', 'france', 'francisco', 'frank', 'frankie', 'freak', 'freakin', 'freaking', 'freaky', 'fred', 'free', 'freedom', 'freeze', 'freezing', 'french', 'fresh', 'fri', 'friday', 'fridge', 'fried', 'friend', 'friendly', 'friendship', 'friggin', 'fringe', 'frm', 'frog', 'front', 'frosting', 'frozen', 'fruit', 'frustrated', 'frustrating', 'fry', 'ftw', 'fuck', 'fucked', 'fuckin', 'fucking', 'fuel', 'full', 'fully', 'fun', 'function', 'fund', 'funeral', 'funky', 'funniest', 'funny', 'furniture', 'future', 'fyi', 'gadget', 'gaga', 'gah', 'gahh', 'gain', 'gained', 'gal', 'gallery', 'game', 'gamer', 'gaming', 'gang', 'gap', 'garage', 'garbage', 'garden', 'garlic', 'gary', 'gas', 'gasp', 'gate', 'gave', 'gay', 'gear', 'gee', 'geek', 'geeky', 'geez', 'gen', 'gene', 'general', 'generally', 'generation', 'generous', 'genius', 'gentle', 'gentleman', 'genuine', 'geography', 'george', 'georgia', 'germ', 'german', 'germany', 'get', 'gether', 'gettin', 'getting', 'ghetto', 'ghost', 'giant', 'gift', 'gig', 'giggle', 'gimme', 'gin', 'ginger', 'girl', 'girlfriend', 'girlie', 'girly', 'git', 'give', 'giveaway', 'given', 'giving', 'glad', 'glasgow', 'glass', 'glasto', 'global', 'gloomy', 'glorious', 'glory', 'glue', 'gmail', 'gna', 'gnight', 'gnome', 'go', 'goal', 'goat', 'god', 'goin', 'going', 'gold', 'golden', 'golf', 'gon', 'gona', 'gone', 'gonna', 'good', 'goodbye', 'goodluck', 'goodmorning', 'goodness', 'goodnight', 'goodsex', 'goody', 'google', 'goood', 'goooo', 'gooood', 'goooood', 'gorgeous', 'gosh', 'gossip', 'got', 'gotcha', 'gots', 'gotta', 'gotten', 'gov', 'govt', 'gps', 'grab', 'grace', 'grad', 'grade', 'graduate', 'graduated', 'graduating', 'graduation', 'grand', 'grandma', 'grandpa', 'grape', 'graphic', 'grass', 'grateful', 'gravity', 'gray', 'grease', 'great', 'greater', 'greatest', 'greatly', 'greece', 'greek', 'green', 'greeting', 'grew', 'grey', 'grill', 'grin', 'grind', 'grocery', 'gross', 'ground', 'grounded', 'group', 'grow', 'growing', 'grown', 'grr', 'grrr', 'grrrr', 'grumpy', 'gta', 'guarantee', 'guard', 'gud', 'gue', 'guess', 'guessed', 'guessing', 'guest', 'guide', 'guilt', 'guilty', 'guitar', 'gum', 'gun', 'guna', 'gunna', 'gurl', 'guru', 'gut', 'gutted', 'guy', 'gym', 'habit', 'hack', 'hacked', 'hah', 'haha', 'hahaa', 'hahah', 'hahaha', 'hahahah', 'hahahaha', 'hahahahah', 'hahahahaha', 'hahha', 'hai', 'hair', 'haircut', 'half', 'halfway', 'hall', 'halo', 'ham', 'hammer', 'hand', 'handed', 'handle', 'handsome', 'handy', 'hang', 'hangin', 'hanging', 'hangover', 'hannah', 'happen', 'happend', 'happened', 'happening', 'happens', 'happier', 'happily', 'happiness', 'happy', 'har', 'hard', 'hardcore', 'harder', 'hardest', 'hardly', 'hardware', 'harm', 'harper', 'harry', 'harsh', 'hashtag', 'hasnt', 'hat', 'hate', 'hated', 'hater', 'hating', 'hav', 'havent', 'haveyouever', 'havin', 'havn', 'havnt', 'hawaii', 'hay', 'haz', 'hbo', 'hbu', 'he', 'head', 'headache', 'headed', 'heading', 'headline', 'headphone', 'health', 'healthy', 'heap', 'hear', 'heard', 'hearing', 'heart', 'heat', 'heater', 'heather', 'heaven', 'heavy', 'heck', 'hee', 'heeey', 'heehee', 'heel', 'heey', 'heh', 'hehe', 'heheh', 'hehehe', 'hehehehe', 'held', 'hell', 'hella', 'hello', 'help', 'helped', 'helpful', 'helping', 'hence', 'henry', 'hero', 'hey', 'heya', 'heyy', 'heyyy', 'heyyyy', 'hidden', 'hide', 'hideous', 'hiding', 'high', 'higher', 'highest', 'highlight', 'highly', 'hihi', 'hii', 'hiii', 'hilarious', 'hill', 'hilton', 'hint', 'hip', 'hire', 'hiring', 'history', 'hit', 'hitting', 'hiya', 'hmm', 'hmmm', 'hmmmm', 'hmmmmm', 'hmph', 'hobby', 'hockey', 'hoe', 'hola', 'hold', 'holding', 'hole', 'holiday', 'holla', 'holland', 'holly', 'hollywood', 'hols', 'holy', 'home', 'homemade', 'homesick', 'hometown', 'homework', 'homie', 'homies', 'homo', 'hon', 'honest', 'honestly', 'honesty', 'honey', 'honor', 'honored', 'hoo', 'hood', 'hook', 'hooked', 'hooray', 'hop', 'hope', 'hoped', 'hopefully', 'hopeless', 'hoping', 'hoppusday', 'horny', 'horrible', 'horribly', 'horrid', 'horror', 'horse', 'hospital', 'host', 'hosting', 'hot', 'hotel', 'hotness', 'hott', 'hotter', 'hottest', 'hotwords', 'hour', 'house', 'housewife', 'housework', 'houston', 'howard', 'howdy', 'however', 'hows', 'hr', 'html', 'hub', 'hubby', 'hug', 'huge', 'huggles', 'hugh', 'huh', 'huhu', 'hulu', 'human', 'humid', 'humor', 'humour', 'hun', 'hundred', 'hung', 'hunger', 'hungover', 'hungry', 'hunny', 'hunt', 'hunter', 'hunting', 'hurricane', 'hurry', 'hurt', 'hurting', 'husband', 'hut', 'hve', 'hype', 'hyper', 'iamsoannoyed', 'ian', 'ice', 'icecream', 'iced', 'ich', 'ick', 'icky', 'icon', 'iconfess', 'idea', 'idiot', 'idk', 'idol', 'ignore', 'ignored', 'ignoring', 'ikr', 'ill', 'illegal', 'iloveyou', 'ily', 'ima', 'image', 'imagination', 'imagine', 'imisscath', 'imma', 'immediately', 'imo', 'impatient', 'important', 'impossible', 'impressed', 'impression', 'impressive', 'improve', 'improvement', 'imy', 'inaperfectworld', 'inbox', 'inch', 'incident', 'include', 'included', 'includes', 'including', 'increase', 'incredible', 'incredibly', 'indeed', 'index', 'india', 'indian', 'indiana', 'indie', 'indonesia', 'industry', 'indy', 'infamous', 'infection', 'influence', 'info', 'information', 'informed', 'ing', 'injured', 'injury', 'ink', 'innocent', 'insane', 'insanely', 'inside', 'insight', 'insomnia', 'inspiration', 'inspirational', 'inspired', 'inspiring', 'install', 'installed', 'installing', 'instant', 'instead', 'instrument', 'insurance', 'intelligent', 'intended', 'intense', 'intention', 'interest', 'interested', 'interesting', 'intern', 'international', 'internet', 'internship', 'interview', 'interviewed', 'intro', 'introduced', 'invalid', 'invented', 'invitation', 'invite', 'invited', 'involve', 'involved', 'iowa', 'iphone', 'ipod', 'iran', 'iranelection', 'ireland', 'iremember', 'irish', 'irl', 'iron', 'ironic', 'ironing', 'irony', 'ish', 'island', 'isnt', 'israel', 'issue', 'ist', 'italian', 'italy', 'itch', 'itchy', 'item', 'itt', 'itunes', 'ive', 'iya', 'jack', 'jacket', 'jackie', 'jackson', 'jacob', 'jail', 'jailbreak', 'jakarta', 'jake', 'jam', 'james', 'jane', 'january', 'japan', 'japanese', 'jared', 'jason', 'java', 'jay', 'jazz', 'jealous', 'jean', 'jeez', 'jeff', 'jelly', 'jelous', 'jen', 'jennifer', 'jenny', 'jensen', 'jerk', 'jerry', 'jersey', 'jess', 'jesse', 'jessica', 'jesus', 'jet', 'jill', 'jim', 'jimmy', 'job', 'joe', 'joey', 'john', 'johnny', 'join', 'joined', 'joining', 'joint', 'joke', 'joking', 'jon', 'jonas', 'jones', 'jordan', 'josh', 'journal', 'journey', 'joy', 'jst', 'judge', 'juice', 'julia', 'julian', 'julie', 'july', 'jump', 'jumped', 'jumping', 'june', 'junior', 'junk', 'jus', 'justice', 'justin', 'karen', 'karma', 'kasi', 'kat', 'kate', 'katie', 'kay', 'keep', 'keeper', 'keeping', 'kelly', 'kept', 'kevin', 'kevinjonas', 'kewl', 'key', 'keyboard', 'kick', 'kicked', 'kicking', 'kid', 'kidding', 'kill', 'killed', 'killer', 'killing', 'kim', 'kind', 'kinda', 'kindle', 'kindly', 'kindness', 'king', 'kingdom', 'kiss', 'kissed', 'kit', 'kita', 'kitchen', 'kitten', 'kitty', 'knee', 'knew', 'knight', 'knitting', 'kno', 'knock', 'knocked', 'know', 'knowing', 'knowledge', 'known', 'knowww', 'knw', 'kobe', 'kool', 'korean', 'kris', 'kristen', 'la', 'lab', 'label', 'lack', 'lad', 'lady', 'lah', 'laid', 'lake', 'laker', 'lakers', 'lala', 'lamb', 'lambert', 'lame', 'land', 'landed', 'lang', 'language', 'lap', 'laptop', 'large', 'larger', 'larry', 'last', 'lasted', 'late', 'lately', 'later', 'latest', 'latin', 'latter', 'laugh', 'laughed', 'laughing', 'launch', 'laundry', 'laura', 'lauren', 'law', 'lawn', 'lay', 'layer', 'laying', 'layout', 'lazy', 'lb', 'le', 'lead', 'leader', 'leadership', 'leading', 'leaf', 'league', 'leak', 'learn', 'learned', 'learning', 'learnt', 'lease', 'least', 'leather', 'leave', 'leaving', 'lebron', 'lecture', 'lee', 'left', 'leg', 'legal', 'legally', 'legend', 'legit', 'lego', 'lemme', 'lemon', 'lemonade', 'length', 'leno', 'lens', 'leon', 'lesbian', 'lesson', 'let', 'letter', 'letting', 'level', 'liar', 'library', 'license', 'lick', 'lie', 'lied', 'life', 'lifetime', 'lift', 'light', 'lighter', 'lighting', 'lightning', 'like', 'liked', 'likely', 'likey', 'liking', 'lil', 'lily', 'limit', 'limited', 'linda', 'line', 'link', 'linked', 'linux', 'lion', 'lip', 'liquid', 'lisa', 'list', 'listed', 'listen', 'listened', 'listener', 'listenin', 'listening', 'listing', 'lit', 'literally', 'little', 'live', 'lived', 'liverpool', 'living', 'liz', 'llama', 'lmao', 'lmaoo', 'lmfao', 'load', 'loaded', 'loading', 'lobster', 'local', 'location', 'lock', 'locked', 'lofnotc', 'log', 'logged', 'logo', 'lol', 'loll', 'lolll', 'lolol', 'lols', 'lolz', 'london', 'lonely', 'long', 'longer', 'longest', 'longestpoemintheworld', 'look', 'looked', 'lookin', 'looking', 'lool', 'loooove', 'looove', 'loop', 'loose', 'loosing', 'lord', 'los', 'lose', 'loser', 'loses', 'losing', 'loss', 'lost', 'lot', 'lotsa', 'loud', 'louis', 'lounge', 'lovato', 'love', 'loved', 'lovee', 'loveee', 'lovely', 'lover', 'lovin', 'loving', 'low', 'lower', 'luck', 'luckily', 'lucky', 'luggage', 'luke', 'lunch', 'lung', 'lush', 'luv', 'lvatt', 'lying', 'lyk', 'lyric', 'ma', 'mac', 'macbook', 'machine', 'mad', 'made', 'madness', 'mag', 'magazine', 'magic', 'magical', 'mah', 'mail', 'main', 'maine', 'mainly', 'maintenance', 'major', 'make', 'maker', 'makeup', 'makin', 'making', 'male', 'mall', 'mama', 'mami', 'man', 'manage', 'managed', 'management', 'manager', 'manchester', 'mandy', 'mango', 'manila', 'mann', 'many', 'map', 'mar', 'marathon', 'march', 'margarita', 'maria', 'mario', 'mark', 'market', 'marketing', 'marriage', 'married', 'marry', 'marsiscoming', 'martin', 'marvelous', 'mary', 'mass', 'massage', 'massive', 'master', 'masterchef', 'match', 'mate', 'material', 'math', 'matt', 'matter', 'max', 'may', 'mayb', 'maybe', 'mcdonalds', 'mcfly', 'mcflyforgermany', 'meal', 'mean', 'meaning', 'meant', 'meantime', 'meat', 'med', 'medicine', 'medium', 'mee', 'meee', 'meeee', 'meet', 'meeting', 'meg', 'mega', 'megan', 'meh', 'mel', 'melbourne', 'melt', 'melted', 'member', 'memorial', 'memory', 'men', 'mental', 'mention', 'mentioned', 'menu', 'meow', 'mess', 'message', 'messed', 'messing', 'messy', 'met', 'metal', 'metro', 'mexican', 'mexico', 'mi', 'mia', 'miami', 'mic', 'michael', 'michelle', 'michigan', 'microsoft', 'mid', 'middle', 'midnight', 'might', 'mighty', 'migraine', 'mike', 'mikey', 'mile', 'miley', 'mileymonday', 'milk', 'milkshake', 'mill', 'million', 'milo', 'mimi', 'min', 'mind', 'mine', 'mini', 'minor', 'mint', 'minus', 'minute', 'miracle', 'mirror', 'miserable', 'miss', 'missed', 'missin', 'missing', 'mission', 'missy', 'mistake', 'mister', 'mix', 'mixed', 'mixing', 'mm', 'mmm', 'mmmm', 'mmmmm', 'mmmmmm', 'mo', 'mobile', 'mod', 'mode', 'model', 'modern', 'mom', 'moment', 'momma', 'mommy', 'mon', 'monday', 'money', 'monica', 'monitor', 'monkey', 'monster', 'montana', 'month', 'montreal', 'mood', 'moody', 'moon', 'morn', 'mornin', 'morning', 'moro', 'morrow', 'mosquito', 'mostly', 'mother', 'motion', 'motivated', 'motivation', 'mountain', 'mouse', 'mouth', 'move', 'moved', 'movie', 'moving', 'mowing', 'mr', 'mrtweet', 'msg', 'msn', 'mtv', 'muah', 'much', 'mucho', 'muffin', 'mug', 'multi', 'multiple', 'mum', 'mummy', 'murder', 'muscle', 'muse', 'museum', 'music', 'musical', 'musicmonday', 'must', 'mutual', 'mwah', 'myspace', 'mystery', 'myweakness', 'nada', 'nadal', 'nah', 'nail', 'naked', 'naman', 'name', 'named', 'nana', 'nap', 'nashville', 'nasty', 'nat', 'nation', 'national', 'natural', 'nature', 'naughty', 'naw', 'nba', 'near', 'nearest', 'nearly', 'neat', 'necessary', 'neck', 'necklace', 'need', 'needed', 'needing', 'needle', 'negative', 'neighbor', 'neighborhood', 'neighbour', 'neither', 'neon', 'nephew', 'nerd', 'nerve', 'nervous', 'ness', 'net', 'netball', 'netherlands', 'network', 'networking', 'neva', 'never', 'nevermind', 'new', 'newbie', 'newcastle', 'newest', 'news', 'newsletter', 'newspaper', 'next', 'nga', 'nic', 'nice', 'nicely', 'nicer', 'nick', 'nickname', 'nicole', 'niece', 'nigga', 'night', 'nightmare', 'nighty', 'nih', 'niley', 'nin', 'nina', 'nine', 'ninja', 'nite', 'nkotb', 'no', 'nobody', 'nod', 'noe', 'noise', 'nokia', 'nom', 'non', 'none', 'noo', 'noodle', 'noon', 'noone', 'nooo', 'noooo', 'nooooo', 'noooooo', 'nooooooo', 'nooooooooo', 'nope', 'normal', 'normally', 'north', 'northern', 'norway', 'nose', 'note', 'notebook', 'nothin', 'nothing', 'notice', 'noticed', 'notification', 'noundiessunday', 'nov', 'novel', 'november', 'nowadays', 'nowhere', 'nowww', 'nude', 'nugget', 'number', 'nurse', 'nut', 'nxt', 'nyc', 'nyt', 'oatmeal', 'obama', 'obsessed', 'obvious', 'obviously', 'ocean', 'october', 'odd', 'odds', 'ofcourse', 'offended', 'offer', 'offered', 'office', 'official', 'officially', 'offline', 'often', 'ohh', 'ohhh', 'ohhhh', 'ohio', 'oil', 'okay', 'okie', 'old', 'older', 'oldest', 'oldie', 'ole', 'olive', 'omfg', 'omg', 'one', 'onion', 'online', 'ontario', 'ontd', 'onto', 'ooc', 'ooh', 'oohh', 'ooo', 'oooh', 'ooohhh', 'oooo', 'ooooh', 'ooooo', 'oops', 'open', 'opened', 'opening', 'opera', 'opinion', 'opportunity', 'opposite', 'oprah', 'option', 'orange', 'order', 'ordered', 'oreo', 'org', 'original', 'originally', 'orlando', 'oscar', 'oth', 'others', 'otherwise', 'ouch', 'out', 'outcome', 'outfit', 'outlet', 'outlook', 'outside', 'outta', 'oven', 'overall', 'overnight', 'overseas', 'ovum', 'owe', 'owl', 'owned', 'owner', 'owning', 'pack', 'package', 'packed', 'packing', 'pad', 'page', 'paid', 'pain', 'painful', 'paint', 'painted', 'painting', 'pair', 'pakcricket', 'pal', 'pala', 'palm', 'pan', 'pancake', 'panda', 'panel', 'panic', 'pant', 'papa', 'paparazzo', 'paper', 'parade', 'paramore', 'paranoid', 'parent', 'paris', 'park', 'parked', 'parking', 'part', 'participate', 'particular', 'particularly', 'partner', 'party', 'partying', 'pas', 'pass', 'passed', 'passing', 'passion', 'password', 'past', 'pasta', 'paste', 'pat', 'patch', 'path', 'pathetic', 'patience', 'patient', 'patrick', 'patron', 'pattern', 'pattinson', 'paul', 'paula', 'pause', 'pay', 'paying', 'payment', 'pcd', 'pea', 'peace', 'peaceful', 'peach', 'peak', 'peanut', 'pearl', 'pee', 'peep', 'pen', 'penguin', 'penis', 'penny', 'people', 'pepper', 'pepsi', 'per', 'perfect', 'perfectly', 'perform', 'performance', 'performed', 'performing', 'perhaps', 'period', 'perk', 'permission', 'permit', 'pero', 'person', 'personal', 'personality', 'personally', 'perspective', 'perth', 'pet', 'pete', 'peter', 'phew', 'philippine', 'philly', 'phoenix', 'phone', 'photo', 'photographer', 'photography', 'photoshop', 'phrase', 'physic', 'physical', 'piano', 'pic', 'pick', 'picked', 'picking', 'pickle', 'picky', 'picnic', 'picture', 'pie', 'piece', 'pier', 'pierced', 'pig', 'pile', 'pill', 'pillow', 'pilot', 'pin', 'pineapple', 'ping', 'pink', 'pint', 'pirate', 'piss', 'pissed', 'pit', 'pitch', 'pity', 'pix', 'pixar', 'pizza', 'place', 'plain', 'plan', 'plane', 'planet', 'planned', 'planning', 'plant', 'plastic', 'plate', 'play', 'played', 'player', 'playin', 'playing', 'playlist', 'pleasant', 'please', 'pleased', 'pleasure', 'plenty', 'pls', 'plug', 'plugin', 'plus', 'plz', 'pocket', 'pod', 'podcast', 'poem', 'poet', 'poetry', 'point', 'pointed', 'pointing', 'pointless', 'poison', 'poisoning', 'poke', 'poker', 'police', 'policy', 'politics', 'poll', 'pond', 'pony', 'poo', 'pool', 'poop', 'poor', 'pop', 'popcorn', 'popped', 'poppin', 'popping', 'popular', 'pork', 'porn', 'port', 'portland', 'portuguese', 'position', 'positive', 'possibility', 'possible', 'possibly', 'post', 'postcard', 'posted', 'poster', 'posting', 'pot', 'potato', 'potential', 'potter', 'pound', 'pour', 'pouring', 'power', 'powerful', 'ppl', 'practically', 'practice', 'practicing', 'praise', 'pray', 'prayer', 'praying', 'pre', 'precious', 'precisely', 'prefer', 'pregnant', 'premiere', 'premium', 'prepare', 'prepared', 'preparing', 'presence', 'present', 'presentation', 'president', 'press', 'pressure', 'pretend', 'pretty', 'preview', 'previous', 'price', 'prick', 'pride', 'prime', 'prince', 'princess', 'print', 'printed', 'printer', 'priority', 'prison', 'private', 'prize', 'pro', 'prob', 'probably', 'problem', 'probs', 'process', 'procrastinating', 'produce', 'producer', 'product', 'production', 'productive', 'professional', 'profile', 'program', 'progress', 'project', 'prolly', 'prom', 'promise', 'promised', 'promo', 'promote', 'proof', 'prop', 'proper', 'properly', 'protein', 'proud', 'prove', 'provide', 'provided', 'psp', 'pub', 'public', 'publish', 'published', 'pudding', 'pull', 'pulled', 'pulling', 'pump', 'pumped', 'pun', 'punch', 'punishment', 'punk', 'pup', 'puppy', 'purchase', 'pure', 'purple', 'purpose', 'purse', 'push', 'pushed', 'pushing', 'pussy', 'put', 'putting', 'pyramid', 'python', 'qld', 'quality', 'quarter', 'que', 'queen', 'question', 'queue', 'quick', 'quicker', 'quickly', 'quiet', 'quit', 'quite', 'quiz', 'quote', 'quoting', 'rabbit', 'race', 'rachel', 'racist', 'rad', 'radio', 'rage', 'rail', 'rain', 'rainbow', 'rained', 'raining', 'rainy', 'raise', 'raised', 'raising', 'rally', 'ram', 'ran', 'random', 'randomly', 'rang', 'range', 'ranger', 'rant', 'rap', 'rapper', 'rare', 'rarely', 'rat', 'rate', 'rated', 'rather', 'rating', 'raw', 'ray', 'reach', 'reached', 'reaction', 'read', 'reader', 'reading', 'ready', 'real', 'realise', 'realised', 'reality', 'realize', 'realized', 'really', 'reason', 'receive', 'received', 'recent', 'recently', 'reception', 'recipe', 'recital', 'reckon', 'recognize', 'recommend', 'recommendation', 'recommended', 'recommending', 'recommends', 'record', 'recorded', 'recording', 'recover', 'recovered', 'recovering', 'recovery', 'red', 'reduce', 'reference', 'referring', 'refresh', 'refreshing', 'refuse', 'reg', 'regard', 'regarding', 'regardless', 'register', 'regret', 'regular', 'rehearsal', 'reject', 'rejected', 'relate', 'related', 'relationship', 'relative', 'relax', 'relaxed', 'relaxing', 'release', 'released', 'relief', 'relieve', 'relieved', 'religion', 'rely', 'remember', 'remembered', 'remind', 'reminded', 'reminder', 'reminding', 'reminds', 'remix', 'remote', 'remove', 'removed', 'rent', 'rental', 'rep', 'repair', 'repeat', 'replace', 'replaced', 'replacement', 'replacing', 'replied', 'reply', 'replying', 'report', 'request', 'requested', 'required', 'rerun', 'rescue', 'research', 'resident', 'resist', 'resolution', 'resource', 'respect', 'respond', 'responding', 'response', 'responsibility', 'rest', 'restart', 'restaurant', 'resting', 'result', 'retail', 'retarded', 'retired', 'return', 'returned', 'retweet', 'reunion', 'revenge', 'review', 'revise', 'revising', 'revision', 'revolution', 'reward', 'rhyme', 'rib', 'rice', 'rich', 'rid', 'ride', 'rider', 'ridiculous', 'ridiculously', 'riding', 'right', 'ring', 'rio', 'rip', 'rise', 'risk', 'rite', 'river', 'rlly', 'rly', 'road', 'roadtrip', 'roast', 'rob', 'robert', 'robin', 'robot', 'rock', 'rocked', 'rocket', 'rockin', 'rocking', 'rocky', 'rofl', 'roger', 'role', 'roll', 'roller', 'rollin', 'rolling', 'rom', 'romance', 'romantic', 'rome', 'roof', 'room', 'roommate', 'root', 'rooting', 'rose', 'ross', 'rough', 'round', 'route', 'router', 'routine', 'rove', 'row', 'royal', 'rub', 'rubber', 'rubbing', 'rubbish', 'ruby', 'rude', 'rugby', 'ruin', 'ruined', 'rule', 'rumor', 'rumour', 'run', 'running', 'rus', 'rush', 'russian', 'ryan', 'sac', 'sad', 'saddest', 'sadly', 'sadness', 'safari', 'safe', 'safely', 'said', 'sake', 'salad', 'sale', 'salon', 'salsa', 'salt', 'sam', 'samantha', 'sample', 'san', 'sanctuarysunday', 'sand', 'sandwich', 'sang', 'santa', 'sara', 'sarah', 'sarcasm', 'sat', 'satisfied', 'saturday', 'sauce', 'sausage', 'save', 'saved', 'saving', 'saw', 'say', 'sayang', 'sayin', 'saying', 'scare', 'scared', 'scary', 'scene', 'schedule', 'scheduled', 'school', 'sci', 'science', 'score', 'scored', 'scotland', 'scott', 'scottish', 'scratch', 'scream', 'screamed', 'screaming', 'screen', 'screw', 'screwed', 'script', 'scrub', 'sea', 'sean', 'search', 'searched', 'searching', 'season', 'seat', 'seattle', 'seb', 'sec', 'second', 'secondstomars', 'secret', 'secretly', 'section', 'security', 'see', 'seeing', 'seem', 'seemed', 'seems', 'seen', 'selena', 'self', 'selfish', 'sell', 'selling', 'semester', 'semi', 'send', 'sending', 'sends', 'senior', 'sense', 'sensitive', 'sent', 'sentence', 'sentiment', 'seo', 'sept', 'september', 'sequel', 'series', 'serious', 'seriously', 'serve', 'server', 'service', 'serving', 'session', 'set', 'setting', 'settle', 'seven', 'several', 'severe', 'sex', 'sexual', 'sexy', 'shade', 'shadow', 'shake', 'shaking', 'shall', 'shame', 'shape', 'share', 'shared', 'sharing', 'shark', 'sharp', 'shattered', 'shaun', 'shaundiviney', 'shaunjumpnow', 'shaving', 'shed', 'sheep', 'sheesh', 'sheet', 'shelf', 'shell', 'shes', 'shhh', 'shift', 'shin', 'shine', 'shining', 'shiny', 'ship', 'shipped', 'shipping', 'shirt', 'shit', 'shite', 'shitty', 'shld', 'sho', 'shock', 'shocked', 'shocking', 'shoe', 'shoot', 'shooting', 'shop', 'shopping', 'short', 'shorter', 'shortly', 'shortstack', 'shot', 'shoulda', 'shoulder', 'shouldnt', 'shout', 'shoutout', 'show', 'showed', 'shower', 'showing', 'shown', 'shuck', 'shud', 'shut', 'shy', 'si', 'sick', 'sickness', 'side', 'sigh', 'sight', 'sign', 'signal', 'signed', 'signing', 'sih', 'silence', 'silent', 'silly', 'silver', 'sim', 'similar', 'simon', 'simple', 'simply', 'simpson', 'sims', 'sin', 'since', 'sing', 'singapore', 'singer', 'singing', 'single', 'sings', 'sink', 'sinus', 'sir', 'sista', 'sister', 'sit', 'site', 'sitting', 'situation', 'six', 'size', 'sized', 'sketch', 'skill', 'skin', 'skinny', 'skip', 'skipping', 'skirt', 'skittle', 'skool', 'sky', 'skype', 'slap', 'slash', 'sleep', 'sleepin', 'sleeping', 'sleepover', 'sleepy', 'slept', 'slice', 'slide', 'slightly', 'slip', 'slow', 'slower', 'slowly', 'sm', 'smack', 'small', 'smaller', 'smart', 'smell', 'smelling', 'smh', 'smile', 'smiley', 'smiling', 'smith', 'smoke', 'smoking', 'smooth', 'smoothie', 'snack', 'snake', 'snap', 'sneak', 'sniff', 'sniffle', 'snl', 'snow', 'snuggle', 'soap', 'sob', 'sober', 'socal', 'soccer', 'social', 'society', 'sock', 'sod', 'soda', 'soft', 'softball', 'software', 'solar', 'sold', 'solid', 'solo', 'solution', 'solve', 'somebody', 'someday', 'somehow', 'someone', 'somethin', 'something', 'sometime', 'sometimes', 'somewhat', 'somewhere', 'son', 'song', 'sonic', 'sonny', 'sony', 'soo', 'soon', 'sooner', 'sooo', 'soooo', 'sooooo', 'soooooo', 'sophie', 'sore', 'sorrry', 'sorry', 'sort', 'sorta', 'sorted', 'soul', 'sound', 'sounded', 'sounding', 'soundtrack', 'soup', 'sour', 'source', 'south', 'southern', 'sowwy', 'sox', 'soz', 'space', 'spain', 'spam', 'spammer', 'spanish', 'spare', 'spark', 'speak', 'speaker', 'speaking', 'spear', 'special', 'specially', 'specific', 'speech', 'speed', 'speedy', 'spell', 'spelled', 'spelling', 'spelt', 'spend', 'spending', 'spent', 'spicy', 'spider', 'spill', 'spin', 'spirit', 'split', 'spoil', 'spoiled', 'spoiler', 'spoke', 'spoken', 'spoon', 'sport', 'spot', 'spotify', 'spray', 'spread', 'spreading', 'spring', 'sprinkle', 'sprint', 'spy', 'spymaster', 'square', 'squarespace', 'squee', 'squeeze', 'squirrel', 'srry', 'srsly', 'sry', 'stack', 'staff', 'stage', 'stair', 'stalk', 'stalker', 'stalking', 'stamp', 'stand', 'standard', 'standing', 'star', 'starbucks', 'stare', 'staring', 'start', 'started', 'starting', 'startrek', 'starving', 'stat', 'state', 'statement', 'station', 'stats', 'status', 'stavros', 'stay', 'stayed', 'staying', 'steak', 'steal', 'stealing', 'stella', 'step', 'steph', 'steve', 'steven', 'stevie', 'sth', 'stick', 'sticker', 'sticking', 'stil', 'still', 'sting', 'stink', 'stinky', 'stitch', 'stm', 'stock', 'stoked', 'stole', 'stolen', 'stomach', 'stone', 'stood', 'stop', 'stopped', 'stopping', 'storage', 'store', 'storm', 'story', 'straight', 'strange', 'stranger', 'strawberry', 'stream', 'streaming', 'street', 'strength', 'stress', 'stressed', 'stressful', 'stressing', 'stretch', 'strictly', 'strike', 'string', 'strip', 'stroll', 'strong', 'struggle', 'stuck', 'student', 'studied', 'studio', 'study', 'studying', 'stuff', 'stuffed', 'stunning', 'stupid', 'style', 'sub', 'subject', 'submission', 'submit', 'subway', 'success', 'successful', 'suck', 'sucked', 'sucker', 'sucky', 'suddenly', 'sue', 'suffer', 'suffering', 'sugar', 'suggest', 'suggested', 'suggestion', 'suicide', 'suit', 'sum', 'summer', 'summit', 'sun', 'sunburn', 'sunburned', 'sunday', 'sunglass', 'sunny', 'sunrise', 'sunscreen', 'sunset', 'sunshine', 'sup', 'super', 'supernatural', 'supply', 'support', 'supporting', 'suppose', 'supposed', 'sure', 'surely', 'surgery', 'surprise', 'surprised', 'surprising', 'survive', 'survived', 'survivor', 'susan', 'sushi', 'suspect', 'suspended', 'sux', 'swap', 'sway', 'swear', 'sweat', 'sweaty', 'sweden', 'sweet', 'sweetest', 'sweetheart', 'sweetie', 'sweety', 'swell', 'swift', 'swim', 'swimming', 'swine', 'swing', 'switch', 'switched', 'swollen', 'sydney', 'sympathy', 'sync', 'syrup', 'system', 'sytycd', 'tab', 'table', 'taco', 'tad', 'tag', 'tai', 'tail', 'take', 'taken', 'takin', 'taking', 'tale', 'talent', 'talented', 'talk', 'talked', 'talkin', 'talking', 'tall', 'tampa', 'tan', 'tank', 'tanning', 'tap', 'tape', 'target', 'task', 'taste', 'tasted', 'tasty', 'tat', 'tattoo', 'taught', 'tax', 'taylor', 'tbh', 'tcot', 'tea', 'teach', 'teacher', 'teaching', 'team', 'tear', 'teary', 'tease', 'teasing', 'tech', 'technically', 'techno', 'technology', 'ted', 'teddy', 'tee', 'teehee', 'teen', 'teenager', 'teeth', 'teh', 'television', 'tell', 'telling', 'telly', 'temp', 'temple', 'tempted', 'tempting', 'ten', 'tend', 'tennis', 'tent', 'tequila', 'term', 'terminator', 'terrible', 'terribly', 'terrier', 'tesco', 'test', 'testing', 'tetri', 'texas', 'text', 'texted', 'texting', 'tgif', 'tha', 'thai', 'thank', 'thankful', 'thankfully', 'thanks', 'thankyou', 'thanx', 'thats', 'theater', 'theatre', 'thee', 'theme', 'theory', 'therapy', 'there', 'therefore', 'theyre', 'thick', 'thin', 'thing', 'thingy', 'think', 'thinkin', 'thinking', 'third', 'thnks', 'thnx', 'tho', 'thomas', 'thoroughly', 'thou', 'though', 'thought', 'thousand', 'thread', 'three', 'threw', 'thrilled', 'throat', 'throw', 'throwing', 'thrown', 'thru', 'tht', 'thts', 'thumb', 'thunder', 'thunderstorm', 'thurs', 'thursday', 'thus', 'thx', 'thy', 'ti', 'ticket', 'tie', 'tiger', 'tight', 'til', 'till', 'tim', 'time', 'timeline', 'timing', 'tiny', 'tip', 'tired', 'tiring', 'tissue', 'title', 'tix', 'tmr', 'tmrw', 'tnx', 'toast', 'today', 'toe', 'together', 'toilet', 'tokiohotel', 'tokyo', 'told', 'tom', 'tomato', 'tommorow', 'tomorow', 'tomorrow', 'tomoz', 'ton', 'tone', 'tongue', 'tonight', 'tonite', 'tony', 'took', 'tool', 'tooo', 'toooo', 'tooooo', 'toooooo', 'tooth', 'top', 'topic', 'tornado', 'toronto', 'torrent', 'torture', 'toss', 'total', 'totally', 'touch', 'touched', 'touching', 'tough', 'tour', 'touring', 'tournament', 'towards', 'tower', 'town', 'toy', 'track', 'trackle', 'trade', 'traffic', 'tragedy', 'tragic', 'trailer', 'train', 'training', 'trampoline', 'trance', 'transfer', 'transformer', 'translate', 'transport', 'trash', 'travel', 'traveling', 'treasure', 'treat', 'treating', 'treatment', 'tree', 'trek', 'trend', 'trending', 'trey', 'trial', 'trick', 'tricky', 'tried', 'trip', 'triple', 'trippin', 'troll', 'trouble', 'truck', 'true', 'truly', 'trust', 'truth', 'try', 'tryin', 'trying', 'tryna', 'tshirt', 'tsk', 'ttyl', 'tub', 'tube', 'tues', 'tuesday', 'tumblr', 'tummy', 'tuna', 'tune', 'tuned', 'tuning', 'turkey', 'turn', 'turned', 'turning', 'turnoffwords', 'turtle', 'tutorial', 'tweeple', 'tweeps', 'tweet', 'tweetdeck', 'tweeted', 'tweeter', 'tweeteradder', 'tweeterfollow', 'tweetie', 'tweetin', 'tweeting', 'tweetup', 'twenty', 'twice', 'twilight', 'twin', 'twist', 'twit', 'twitpic', 'twitpics', 'twitt', 'twitter', 'twitterberry', 'twitterer', 'twitterfon', 'twitterific', 'twittering', 'twitterverse', 'two', 'txt', 'tyler', 'type', 'typed', 'typical', 'typing', 'typo', 'uber', 'ubertwitter', 'ubuntu', 'udah', 'ugh', 'ughh', 'ughhh', 'ughhhh', 'ugly', 'uhh', 'uhhh', 'uhm', 'ultimate', 'umbrella', 'umm', 'ummm', 'unable', 'unavailable', 'unbelievable', 'uncle', 'underneath', 'understand', 'understanding', 'understood', 'unemployed', 'unexpected', 'unfair', 'unfollow', 'unfollowdiddy', 'unfollowed', 'unfollowing', 'unfortunate', 'unfortunately', 'unfortunatly', 'unhappy', 'uni', 'uniform', 'union', 'unique', 'unit', 'united', 'universe', 'university', 'unknown', 'unless', 'unlike', 'unlimited', 'unlucky', 'untill', 'upcoming', 'update', 'updated', 'updating', 'upgrade', 'upload', 'uploaded', 'uploading', 'upon', 'ups', 'upset', 'upsetting', 'upside', 'ur', 'ure', 'urgh', 'url', 'urself', 'us', 'usa', 'usb', 'use', 'used', 'useful', 'useless', 'user', 'username', 'using', 'usual', 'usually', 'vacation', 'vacay', 'valley', 'valuable', 'value', 'vampire', 'van', 'vancouver', 'vanessa', 'vanilla', 'variety', 'vega', 'vegan', 'vegetable', 'vegetarian', 'veggie', 'velvet', 'vent', 'venue', 'verizon', 'verse', 'version', 'vet', 'via', 'vibe', 'victim', 'vid', 'video', 'vids', 'view', 'village', 'vintage', 'vinyl', 'violence', 'violin', 'vip', 'virgin', 'virtual', 'virus', 'visa', 'visit', 'visited', 'visiting', 'vista', 'visual', 'vitamin', 'vodka', 'voice', 'volume', 'volunteer', 'vote', 'voted', 'voting', 'waaay', 'wack', 'waffle', 'wah', 'wait', 'waited', 'waitin', 'waiting', 'wake', 'waking', 'wala', 'wale', 'walk', 'walked', 'walking', 'wall', 'wallet', 'wallpaper', 'walmart', 'wana', 'wanna', 'want', 'wanted', 'wanting', 'war', 'ward', 'warm', 'warmer', 'warned', 'warning', 'warped', 'wash', 'washed', 'washing', 'washington', 'wasnt', 'wassup', 'waste', 'wasted', 'wat', 'watch', 'watched', 'watchin', 'watching', 'water', 'wats', 'wave', 'waving', 'way', 'weak', 'weakness', 'wear', 'wearing', 'weather', 'web', 'webcam', 'website', 'wed', 'wedding', 'wednesday', 'wee', 'weed', 'week', 'weekend', 'weekly', 'weight', 'weird', 'weirdo', 'welcome', 'well', 'welll', 'wellll', 'wen', 'wendy', 'went', 'wer', 'west', 'western', 'wet', 'whale', 'whatever', 'whats', 'whatsmysection', 'wheel', 'whenever', 'wheres', 'wherever', 'whether', 'whew', 'whilst', 'whining', 'whisper', 'white', 'who', 'whoa', 'whocangetit', 'whoever', 'whole', 'whoo', 'whoop', 'whore', 'whose', 'wht', 'whyitweet', 'whyy', 'wicked', 'wid', 'wide', 'wierd', 'wif', 'wife', 'wifey', 'wifi', 'wii', 'wikipedia', 'wil', 'wild', 'william', 'williams', 'willing', 'wimbledon', 'win', 'wind', 'window', 'windy', 'wine', 'wing', 'wink', 'winner', 'winning', 'winter', 'wire', 'wireless', 'wisdom', 'wise', 'wish', 'wished', 'wishing', 'wit', 'withdrawal', 'within', 'without', 'witness', 'witty', 'wizard', 'wkend', 'wknd', 'wks', 'woah', 'woke', 'woken', 'wolf', 'wolverine', 'woman', 'womp', 'wonder', 'wondered', 'wonderful', 'wondering', 'wont', 'woo', 'wood', 'woof', 'woohoo', 'wooo', 'woooo', 'woop', 'woot', 'word', 'wordcamp', 'wordpress', 'wordsaftersex', 'wore', 'work', 'worked', 'worker', 'workin', 'working', 'workout', 'workshop', 'world', 'worm', 'worn', 'worried', 'worry', 'worse', 'worst', 'worth', 'wot', 'would', 'wouldnt', 'wouldve', 'wound', 'wow', 'wrap', 'wrist', 'write', 'writer', 'writes', 'writing', 'written', 'wrk', 'wrong', 'wrote', 'wtf', 'wud', 'wut', 'www', 'xbox', 'xboxe', 'xdd', 'xmas', 'xox', 'xoxo', 'xoxox', 'xoxoxo', 'xxx', 'xxxx', 'xxxxx', 'yaa', 'yaaay', 'yaay', 'yah', 'yahoo', 'yall', 'yang', 'yankee', 'yard', 'yawn', 'yay', 'yayy', 'yayyy', 'yea', 'yeaa', 'yeaaa', 'yeah', 'yeahh', 'yeahhh', 'year', 'yeh', 'yell', 'yellow', 'yep', 'yer', 'yes', 'yesterday', 'yet', 'yew', 'yey', 'yikes', 'yoga', 'yogurt', 'yoo', 'york', 'yorkshire', 'youll', 'young', 'younger', 'youre', 'yous', 'youth', 'youtube', 'youu', 'youuu', 'youuuu', 'youve', 'yr', 'yuck', 'yucky', 'yum', 'yumm', 'yummy', 'yung', 'yup', 'yur', 'zac', 'zach', 'zealand', 'zero', 'zombie', 'zone', 'zoo', 'zoom']\n"
     ]
    }
   ],
   "source": [
    "print(vocab)"
   ]
  },
  {
   "cell_type": "markdown",
   "metadata": {},
   "source": [
    "### Classify af with the Random Forest\n",
    "At this point, we have numeric training features from the Bag of Words and the original sentiment labels for each feature vector so let's do some supervised learning by applying classification algorithms!"
   ]
  },
  {
   "cell_type": "code",
   "execution_count": 23,
   "metadata": {},
   "outputs": [
    {
     "name": "stderr",
     "output_type": "stream",
     "text": [
      "/home/pilot/anaconda3/lib/python3.6/site-packages/sklearn/ensemble/weight_boosting.py:29: DeprecationWarning: numpy.core.umath_tests is an internal NumPy module and should not be imported. It will be removed in a future NumPy release.\n",
      "  from numpy.core.umath_tests import inner1d\n"
     ]
    }
   ],
   "source": [
    "from sklearn.ensemble import RandomForestClassifier"
   ]
  },
  {
   "cell_type": "code",
   "execution_count": 24,
   "metadata": {
    "collapsed": true
   },
   "outputs": [],
   "source": [
    "# Initialize a Random Forest classifier with 100 trees\n",
    "forest = RandomForestClassifier(n_estimators = 100)"
   ]
  },
  {
   "cell_type": "code",
   "execution_count": 25,
   "metadata": {},
   "outputs": [
    {
     "name": "stdout",
     "output_type": "stream",
     "text": [
      "Classifier is trained\n"
     ]
    }
   ],
   "source": [
    "# Fit the forest to the training set, using the bag of words as \n",
    "# features and the sentiment labels as the response variable\n",
    "forest = forest.fit(train_data_features, train[\"Sentiment\"])\n",
    "print(\"Classifier is trained\")"
   ]
  },
  {
   "cell_type": "markdown",
   "metadata": {},
   "source": [
    "### Run the trained Random Forest Classifier on the test set (create a submission file) and predict sentiments on some test-cases (for fun) "
   ]
  },
  {
   "cell_type": "code",
   "execution_count": 26,
   "metadata": {},
   "outputs": [
    {
     "data": {
      "text/html": [
       "<div>\n",
       "<style>\n",
       "    .dataframe thead tr:only-child th {\n",
       "        text-align: right;\n",
       "    }\n",
       "\n",
       "    .dataframe thead th {\n",
       "        text-align: left;\n",
       "    }\n",
       "\n",
       "    .dataframe tbody tr th {\n",
       "        vertical-align: top;\n",
       "    }\n",
       "</style>\n",
       "<table border=\"1\" class=\"dataframe\">\n",
       "  <thead>\n",
       "    <tr style=\"text-align: right;\">\n",
       "      <th></th>\n",
       "      <th>ItemID</th>\n",
       "      <th>Sentiment</th>\n",
       "      <th>SentimentText</th>\n",
       "    </tr>\n",
       "  </thead>\n",
       "  <tbody>\n",
       "    <tr>\n",
       "      <th>33965</th>\n",
       "      <td>33977</td>\n",
       "      <td>1</td>\n",
       "      <td>wheeee</td>\n",
       "    </tr>\n",
       "    <tr>\n",
       "      <th>22853</th>\n",
       "      <td>22865</td>\n",
       "      <td>1</td>\n",
       "      <td>thank good meet</td>\n",
       "    </tr>\n",
       "    <tr>\n",
       "      <th>19448</th>\n",
       "      <td>19460</td>\n",
       "      <td>0</td>\n",
       "      <td>electricbath eewwww gross sorry hayward hate like</td>\n",
       "    </tr>\n",
       "    <tr>\n",
       "      <th>9732</th>\n",
       "      <td>9744</td>\n",
       "      <td>1</td>\n",
       "      <td>followfriday little late special shoutout missus</td>\n",
       "    </tr>\n",
       "    <tr>\n",
       "      <th>7129</th>\n",
       "      <td>7132</td>\n",
       "      <td>1</td>\n",
       "      <td>icanhelp shopping deal personal assistant even...</td>\n",
       "    </tr>\n",
       "  </tbody>\n",
       "</table>\n",
       "</div>"
      ],
      "text/plain": [
       "       ItemID  Sentiment                                      SentimentText\n",
       "33965   33977          1                                             wheeee\n",
       "22853   22865          1                                    thank good meet\n",
       "19448   19460          0  electricbath eewwww gross sorry hayward hate like\n",
       "9732     9744          1   followfriday little late special shoutout missus\n",
       "7129     7132          1  icanhelp shopping deal personal assistant even..."
      ]
     },
     "execution_count": 26,
     "metadata": {},
     "output_type": "execute_result"
    }
   ],
   "source": [
    "test.head()"
   ]
  },
  {
   "cell_type": "code",
   "execution_count": 29,
   "metadata": {},
   "outputs": [],
   "source": [
    "testData = test[\"SentimentText\"].tolist()"
   ]
  },
  {
   "cell_type": "code",
   "execution_count": 31,
   "metadata": {},
   "outputs": [],
   "source": [
    "testSentiment = test[\"Sentiment\"].tolist()"
   ]
  },
  {
   "cell_type": "code",
   "execution_count": 40,
   "metadata": {
    "collapsed": true
   },
   "outputs": [],
   "source": [
    "# Get a bag of words for the test set\n",
    "test_data_features = vectorizer.transform(testData)"
   ]
  },
  {
   "cell_type": "code",
   "execution_count": 65,
   "metadata": {
    "collapsed": true
   },
   "outputs": [],
   "source": [
    "# convert to a numpy array is heavy for the hardware\n",
    "# test_data_features = test_data_features.toarray()"
   ]
  },
  {
   "cell_type": "code",
   "execution_count": 46,
   "metadata": {
    "collapsed": true
   },
   "outputs": [],
   "source": [
    "# Use the random forest to make sentiment label predictions on the test data\n",
    "result_Forest = forest.predict(test_data_features)"
   ]
  },
  {
   "cell_type": "code",
   "execution_count": 60,
   "metadata": {},
   "outputs": [],
   "source": [
    "# compare how good forest classifier is\n",
    "success = 0\n",
    "failure = 0\n",
    "length = len(testSentiment) - 1\n",
    "for i in range(0, length):\n",
    "    if testSentiment[i] == result_Forest[i]:\n",
    "        success += 1\n",
    "    else:\n",
    "        failure += 1"
   ]
  },
  {
   "cell_type": "code",
   "execution_count": 61,
   "metadata": {},
   "outputs": [
    {
     "data": {
      "text/plain": [
       "14462"
      ]
     },
     "execution_count": 61,
     "metadata": {},
     "output_type": "execute_result"
    }
   ],
   "source": [
    "success"
   ]
  },
  {
   "cell_type": "code",
   "execution_count": 63,
   "metadata": {},
   "outputs": [
    {
     "data": {
      "text/plain": [
       "72.32084812721908"
      ]
     },
     "execution_count": 63,
     "metadata": {},
     "output_type": "execute_result"
    }
   ],
   "source": [
    "(success / length)*100"
   ]
  },
  {
   "cell_type": "code",
   "execution_count": 64,
   "metadata": {},
   "outputs": [
    {
     "data": {
      "text/plain": [
       "27.679151872780917"
      ]
     },
     "execution_count": 64,
     "metadata": {},
     "output_type": "execute_result"
    }
   ],
   "source": [
    "(failure / length)*100"
   ]
  },
  {
   "cell_type": "code",
   "execution_count": 66,
   "metadata": {
    "collapsed": true
   },
   "outputs": [],
   "source": [
    "# Copy the results to a pandas dataframe with an \"id\" column and\n",
    "# a \"sentiment\" column\n",
    "output = pd.DataFrame(data={\"id\":test[\"ItemID\"], \"sentiment\":result_Forest})"
   ]
  },
  {
   "cell_type": "code",
   "execution_count": 67,
   "metadata": {},
   "outputs": [
    {
     "data": {
      "text/plain": [
       "(19998, 2)"
      ]
     },
     "execution_count": 67,
     "metadata": {},
     "output_type": "execute_result"
    }
   ],
   "source": [
    "output.shape"
   ]
  },
  {
   "cell_type": "code",
   "execution_count": 68,
   "metadata": {
    "collapsed": true
   },
   "outputs": [],
   "source": [
    "# Use pandas to write the comma-separated output file\n",
    "output.to_csv(\"Bag_of_Words_model-Random_Forest.csv\", index=False, quoting=3)"
   ]
  },
  {
   "cell_type": "code",
   "execution_count": 71,
   "metadata": {},
   "outputs": [
    {
     "name": "stdout",
     "output_type": "stream",
     "text": [
      "[1]\n"
     ]
    }
   ],
   "source": [
    "# Prediction on an input string\n",
    "input_string = \"Ooo hell yeah it is hot\"\n",
    "print(forest.predict(vectorizer.transform([twitts_to_words(input_string)])))"
   ]
  },
  {
   "cell_type": "markdown",
   "metadata": {
    "collapsed": true
   },
   "source": [
    "### Logistic Regression Classifier  "
   ]
  },
  {
   "cell_type": "code",
   "execution_count": 79,
   "metadata": {
    "collapsed": true
   },
   "outputs": [],
   "source": [
    "from sklearn.linear_model import LogisticRegression"
   ]
  },
  {
   "cell_type": "code",
   "execution_count": 80,
   "metadata": {
    "collapsed": true
   },
   "outputs": [],
   "source": [
    "logregression = LogisticRegression()"
   ]
  },
  {
   "cell_type": "code",
   "execution_count": 82,
   "metadata": {},
   "outputs": [
    {
     "name": "stdout",
     "output_type": "stream",
     "text": [
      "Classifier is trained\n"
     ]
    }
   ],
   "source": [
    "logregression = logregression.fit(train_data_features, train[\"Sentiment\"])\n",
    "print(\"Classifier is trained\")"
   ]
  },
  {
   "cell_type": "code",
   "execution_count": 85,
   "metadata": {
    "collapsed": true
   },
   "outputs": [],
   "source": [
    "result_Logistic = logregression.predict(test_data_features)"
   ]
  },
  {
   "cell_type": "code",
   "execution_count": 88,
   "metadata": {
    "collapsed": true
   },
   "outputs": [],
   "source": [
    "# compare how good forest classifier is\n",
    "success = 0\n",
    "failure = 0\n",
    "length = len(testSentiment) - 1\n",
    "for i in range(0, length):\n",
    "    if testSentiment[i] == result_Logistic[i]:\n",
    "        success += 1\n",
    "    else:\n",
    "        failure += 1"
   ]
  },
  {
   "cell_type": "code",
   "execution_count": 89,
   "metadata": {},
   "outputs": [
    {
     "data": {
      "text/plain": [
       "74.35115267290094"
      ]
     },
     "execution_count": 89,
     "metadata": {},
     "output_type": "execute_result"
    }
   ],
   "source": [
    "(success / length)*100"
   ]
  },
  {
   "cell_type": "code",
   "execution_count": 90,
   "metadata": {},
   "outputs": [
    {
     "data": {
      "text/plain": [
       "25.648847327099066"
      ]
     },
     "execution_count": 90,
     "metadata": {},
     "output_type": "execute_result"
    }
   ],
   "source": [
    "(failure / length)*100"
   ]
  },
  {
   "cell_type": "code",
   "execution_count": 108,
   "metadata": {
    "collapsed": true
   },
   "outputs": [],
   "source": [
    "outputLog = pd.DataFrame(data={\"id\":test[\"ItemID\"], \"sentiment\":result_Logistic})"
   ]
  },
  {
   "cell_type": "code",
   "execution_count": 109,
   "metadata": {
    "collapsed": true
   },
   "outputs": [],
   "source": [
    "outputLog.to_csv(\"Bag_of_Words_model-Logistic_Regression.csv\", index=False, quoting=3)"
   ]
  },
  {
   "cell_type": "markdown",
   "metadata": {},
   "source": [
    "### SVM Classifier"
   ]
  },
  {
   "cell_type": "code",
   "execution_count": 93,
   "metadata": {
    "collapsed": true
   },
   "outputs": [],
   "source": [
    "from sklearn.svm import SVC"
   ]
  },
  {
   "cell_type": "code",
   "execution_count": 94,
   "metadata": {
    "collapsed": true
   },
   "outputs": [],
   "source": [
    "svm = SVC()"
   ]
  },
  {
   "cell_type": "code",
   "execution_count": 95,
   "metadata": {},
   "outputs": [
    {
     "name": "stdout",
     "output_type": "stream",
     "text": [
      "Classifier is trained\n"
     ]
    }
   ],
   "source": [
    "svm = svm.fit(train_data_features, train[\"Sentiment\"])\n",
    "print(\"Classifier is trained\")"
   ]
  },
  {
   "cell_type": "code",
   "execution_count": 96,
   "metadata": {
    "collapsed": true
   },
   "outputs": [],
   "source": [
    "result_svm = svm.predict(test_data_features)"
   ]
  },
  {
   "cell_type": "code",
   "execution_count": 97,
   "metadata": {
    "collapsed": true
   },
   "outputs": [],
   "source": [
    "# compare how good forest classifier is\n",
    "success = 0\n",
    "failure = 0\n",
    "length = len(testSentiment) - 1\n",
    "for i in range(0, length):\n",
    "    if testSentiment[i] == result_svm[i]:\n",
    "        success += 1\n",
    "    else:\n",
    "        failure += 1"
   ]
  },
  {
   "cell_type": "code",
   "execution_count": 98,
   "metadata": {},
   "outputs": [
    {
     "data": {
      "text/plain": [
       "56.42346351952793"
      ]
     },
     "execution_count": 98,
     "metadata": {},
     "output_type": "execute_result"
    }
   ],
   "source": [
    "(success / length)*100"
   ]
  },
  {
   "cell_type": "code",
   "execution_count": 99,
   "metadata": {},
   "outputs": [
    {
     "data": {
      "text/plain": [
       "43.57653648047207"
      ]
     },
     "execution_count": 99,
     "metadata": {},
     "output_type": "execute_result"
    }
   ],
   "source": [
    "(failure / length)*100"
   ]
  },
  {
   "cell_type": "code",
   "execution_count": 106,
   "metadata": {
    "collapsed": true
   },
   "outputs": [],
   "source": [
    "outputSVM = pd.DataFrame(data={\"id\":test[\"ItemID\"], \"sentiment\":result_svm})"
   ]
  },
  {
   "cell_type": "code",
   "execution_count": 107,
   "metadata": {
    "collapsed": true
   },
   "outputs": [],
   "source": [
    "outputSVM.to_csv(\"Bag_of_Words_model-SVM.csv\", index=False, quoting=3)"
   ]
  },
  {
   "cell_type": "code",
   "execution_count": null,
   "metadata": {
    "collapsed": true
   },
   "outputs": [],
   "source": []
  }
 ],
 "metadata": {
  "kernelspec": {
   "display_name": "Python 3",
   "language": "python",
   "name": "python3"
  },
  "language_info": {
   "codemirror_mode": {
    "name": "ipython",
    "version": 3
   },
   "file_extension": ".py",
   "mimetype": "text/x-python",
   "name": "python",
   "nbconvert_exporter": "python",
   "pygments_lexer": "ipython3",
   "version": "3.6.8"
  }
 },
 "nbformat": 4,
 "nbformat_minor": 2
}
